{
 "cells": [
  {
   "cell_type": "code",
   "execution_count": 1,
   "metadata": {
    "colab": {
     "base_uri": "https://localhost:8080/"
    },
    "id": "pEXIqpb9UzvA",
    "outputId": "fea32324-1e59-48d2-d519-5e07a2e5d058"
   },
   "outputs": [
    {
     "name": "stdout",
     "output_type": "stream",
     "text": [
      "Collecting bert-for-tf2\n",
      "\u001b[?25l  Downloading https://files.pythonhosted.org/packages/a5/a1/acb891630749c56901e770a34d6bac8a509a367dd74a05daf7306952e910/bert-for-tf2-0.14.9.tar.gz (41kB)\n",
      "\r",
      "\u001b[K     |████████                        | 10kB 22.6MB/s eta 0:00:01\r",
      "\u001b[K     |████████████████                | 20kB 29.1MB/s eta 0:00:01\r",
      "\u001b[K     |███████████████████████▉        | 30kB 22.9MB/s eta 0:00:01\r",
      "\u001b[K     |███████████████████████████████▉| 40kB 17.5MB/s eta 0:00:01\r",
      "\u001b[K     |████████████████████████████████| 51kB 6.1MB/s \n",
      "\u001b[?25hCollecting py-params>=0.9.6\n",
      "  Downloading https://files.pythonhosted.org/packages/aa/e0/4f663d8abf83c8084b75b995bd2ab3a9512ebc5b97206fde38cef906ab07/py-params-0.10.2.tar.gz\n",
      "Collecting params-flow>=0.8.0\n",
      "  Downloading https://files.pythonhosted.org/packages/a9/95/ff49f5ebd501f142a6f0aaf42bcfd1c192dc54909d1d9eb84ab031d46056/params-flow-0.8.2.tar.gz\n",
      "Requirement already satisfied: numpy in /usr/local/lib/python3.7/dist-packages (from params-flow>=0.8.0->bert-for-tf2) (1.19.5)\n",
      "Requirement already satisfied: tqdm in /usr/local/lib/python3.7/dist-packages (from params-flow>=0.8.0->bert-for-tf2) (4.41.1)\n",
      "Building wheels for collected packages: bert-for-tf2, py-params, params-flow\n",
      "  Building wheel for bert-for-tf2 (setup.py) ... \u001b[?25l\u001b[?25hdone\n",
      "  Created wheel for bert-for-tf2: filename=bert_for_tf2-0.14.9-cp37-none-any.whl size=30535 sha256=9df8c6b824dbde8218f258fbce9ea9f142ad0668bf4a3adeae495ba535f21674\n",
      "  Stored in directory: /root/.cache/pip/wheels/a1/04/ee/347bd9f5b821b637c76411d280271a857aece00358896a230f\n",
      "  Building wheel for py-params (setup.py) ... \u001b[?25l\u001b[?25hdone\n",
      "  Created wheel for py-params: filename=py_params-0.10.2-cp37-none-any.whl size=7912 sha256=80c364ec1528fb9d96cf3444d7a74ecf23707b380522c7860feda3989e21817d\n",
      "  Stored in directory: /root/.cache/pip/wheels/d0/4a/70/ff12450229ff1955abf01f365051d4faae1c20aef53ab4cf09\n",
      "  Building wheel for params-flow (setup.py) ... \u001b[?25l\u001b[?25hdone\n",
      "  Created wheel for params-flow: filename=params_flow-0.8.2-cp37-none-any.whl size=19472 sha256=359e7c6721de3a226fe51bd96abf8a1249301e24c65c88dd5d62e52e601d82ec\n",
      "  Stored in directory: /root/.cache/pip/wheels/08/c8/7f/81c86b9ff2b86e2c477e3914175be03e679e596067dc630c06\n",
      "Successfully built bert-for-tf2 py-params params-flow\n",
      "Installing collected packages: py-params, params-flow, bert-for-tf2\n",
      "Successfully installed bert-for-tf2-0.14.9 params-flow-0.8.2 py-params-0.10.2\n"
     ]
    }
   ],
   "source": [
    "!pip install bert-for-tf2"
   ]
  },
  {
   "cell_type": "code",
   "execution_count": 2,
   "metadata": {
    "colab": {
     "base_uri": "https://localhost:8080/"
    },
    "id": "i1Fkvm0BX2hi",
    "outputId": "997ed0fb-69b4-42a4-e8d2-0f38716b4661"
   },
   "outputs": [
    {
     "name": "stderr",
     "output_type": "stream",
     "text": [
      "chinese_L-12_H-768_A-12.zip: 382MB [00:06, 54.9MB/s]                           \n"
     ]
    },
    {
     "name": "stdout",
     "output_type": "stream",
     "text": [
      "extracting to: .models/chinese_L-12_H-768_A-12\n"
     ]
    }
   ],
   "source": [
    "import os\n",
    "import bert\n",
    "\n",
    "from tensorflow import keras\n",
    "\n",
    "model_name = \"chinese_L-12_H-768_A-12\"\n",
    "model_dir = bert.fetch_google_bert_model(model_name, \".models\")\n",
    "model_ckpt = os.path.join(model_dir, \"bert_model.ckpt\")\n",
    "\n",
    "bert_params = bert.params_from_pretrained_ckpt(model_dir)\n",
    "l_bert = bert.BertModelLayer.from_params(bert_params, name=\"bert\")"
   ]
  },
  {
   "cell_type": "code",
   "execution_count": 3,
   "metadata": {
    "colab": {
     "base_uri": "https://localhost:8080/"
    },
    "id": "l14BnMkXgWhs",
    "outputId": "8c028b06-c6c6-45d4-b2dd-5949472d42c9"
   },
   "outputs": [
    {
     "name": "stdout",
     "output_type": "stream",
     "text": [
      "Collecting transformers==4.4.1\n",
      "\u001b[?25l  Downloading https://files.pythonhosted.org/packages/2c/d8/5144b0712f7f82229a8da5983a8fbb8d30cec5fbd5f8d12ffe1854dcea67/transformers-4.4.1-py3-none-any.whl (2.1MB)\n",
      "\u001b[K     |████████████████████████████████| 2.1MB 13.4MB/s \n",
      "\u001b[?25hRequirement already satisfied: numpy>=1.17 in /usr/local/lib/python3.7/dist-packages (from transformers==4.4.1) (1.19.5)\n",
      "Requirement already satisfied: requests in /usr/local/lib/python3.7/dist-packages (from transformers==4.4.1) (2.23.0)\n",
      "Collecting sacremoses\n",
      "\u001b[?25l  Downloading https://files.pythonhosted.org/packages/75/ee/67241dc87f266093c533a2d4d3d69438e57d7a90abb216fa076e7d475d4a/sacremoses-0.0.45-py3-none-any.whl (895kB)\n",
      "\u001b[K     |████████████████████████████████| 901kB 60.1MB/s \n",
      "\u001b[?25hRequirement already satisfied: importlib-metadata; python_version < \"3.8\" in /usr/local/lib/python3.7/dist-packages (from transformers==4.4.1) (3.10.1)\n",
      "Requirement already satisfied: packaging in /usr/local/lib/python3.7/dist-packages (from transformers==4.4.1) (20.9)\n",
      "Requirement already satisfied: filelock in /usr/local/lib/python3.7/dist-packages (from transformers==4.4.1) (3.0.12)\n",
      "Collecting tokenizers<0.11,>=0.10.1\n",
      "\u001b[?25l  Downloading https://files.pythonhosted.org/packages/ae/04/5b870f26a858552025a62f1649c20d29d2672c02ff3c3fb4c688ca46467a/tokenizers-0.10.2-cp37-cp37m-manylinux2010_x86_64.whl (3.3MB)\n",
      "\u001b[K     |████████████████████████████████| 3.3MB 46.6MB/s \n",
      "\u001b[?25hRequirement already satisfied: regex!=2019.12.17 in /usr/local/lib/python3.7/dist-packages (from transformers==4.4.1) (2019.12.20)\n",
      "Requirement already satisfied: tqdm>=4.27 in /usr/local/lib/python3.7/dist-packages (from transformers==4.4.1) (4.41.1)\n",
      "Requirement already satisfied: certifi>=2017.4.17 in /usr/local/lib/python3.7/dist-packages (from requests->transformers==4.4.1) (2020.12.5)\n",
      "Requirement already satisfied: idna<3,>=2.5 in /usr/local/lib/python3.7/dist-packages (from requests->transformers==4.4.1) (2.10)\n",
      "Requirement already satisfied: urllib3!=1.25.0,!=1.25.1,<1.26,>=1.21.1 in /usr/local/lib/python3.7/dist-packages (from requests->transformers==4.4.1) (1.24.3)\n",
      "Requirement already satisfied: chardet<4,>=3.0.2 in /usr/local/lib/python3.7/dist-packages (from requests->transformers==4.4.1) (3.0.4)\n",
      "Requirement already satisfied: click in /usr/local/lib/python3.7/dist-packages (from sacremoses->transformers==4.4.1) (7.1.2)\n",
      "Requirement already satisfied: joblib in /usr/local/lib/python3.7/dist-packages (from sacremoses->transformers==4.4.1) (1.0.1)\n",
      "Requirement already satisfied: six in /usr/local/lib/python3.7/dist-packages (from sacremoses->transformers==4.4.1) (1.15.0)\n",
      "Requirement already satisfied: typing-extensions>=3.6.4; python_version < \"3.8\" in /usr/local/lib/python3.7/dist-packages (from importlib-metadata; python_version < \"3.8\"->transformers==4.4.1) (3.7.4.3)\n",
      "Requirement already satisfied: zipp>=0.5 in /usr/local/lib/python3.7/dist-packages (from importlib-metadata; python_version < \"3.8\"->transformers==4.4.1) (3.4.1)\n",
      "Requirement already satisfied: pyparsing>=2.0.2 in /usr/local/lib/python3.7/dist-packages (from packaging->transformers==4.4.1) (2.4.7)\n",
      "Installing collected packages: sacremoses, tokenizers, transformers\n",
      "Successfully installed sacremoses-0.0.45 tokenizers-0.10.2 transformers-4.4.1\n"
     ]
    }
   ],
   "source": [
    "!pip3 install transformers==4.4.1"
   ]
  },
  {
   "cell_type": "code",
   "execution_count": 4,
   "metadata": {
    "id": "-yTUgtZdbiB6"
   },
   "outputs": [],
   "source": [
    "from transformers import BertTokenizer, TFBertForSequenceClassification, BertConfig\n",
    "tokenizer = BertTokenizer.from_pretrained(model_dir, do_lower_case=True)"
   ]
  },
  {
   "cell_type": "code",
   "execution_count": 5,
   "metadata": {
    "colab": {
     "base_uri": "https://localhost:8080/"
    },
    "id": "m29R5RAGkW5k",
    "outputId": "60338625-a1c1-4c75-a0ae-dbb514bc03b2"
   },
   "outputs": [
    {
     "name": "stdout",
     "output_type": "stream",
     "text": [
      "                                                   text  label\n",
      "0     Wind风控日报数据显示，据经济观察网，在2020年，共有4家上市股份行的利润实现负增长，为...     -1\n",
      "1     澳门4月份幸运博彩毛收入84.01亿澳元，同比增长1014.4%；1-4月份幸运博彩毛收入3...      1\n",
      "2                              反垄断风暴袭来！9张罚单落下，腾讯等多家企业被罚     -1\n",
      "3                                     券商五月金股名单出炉，后市怎么走？      0\n",
      "4                             巴菲特2021年股东大会前瞻：疫情下的那些变与不变      0\n",
      "...                                                 ...    ...\n",
      "1364                                        蓝色光标:2个亏损公司     -1\n",
      "1365                                      蓝色光标:明天又要跌停了。     -1\n",
      "1366                                      蓝色光标:明天大跌甚至跌停     -1\n",
      "1367                                             明天继续跌停     -1\n",
      "1368                                             明天跌停开盘     -1\n",
      "\n",
      "[1369 rows x 2 columns]\n"
     ]
    }
   ],
   "source": [
    "import pandas as pd\n",
    "data = pd.read_csv(\"data/label_revise.csv\", encoding='utf_8_sig')\n",
    "print(data)"
   ]
  },
  {
   "cell_type": "code",
   "execution_count": 6,
   "metadata": {
    "id": "sSAJbPwggmYU"
   },
   "outputs": [],
   "source": [
    "from sklearn.model_selection import train_test_split\n",
    "validation_percent = 0.20\n",
    "train_x, validate_x, train_y, validate_y = train_test_split(data[\"text\"].values, data[\"label\"].values, test_size=validation_percent)"
   ]
  },
  {
   "cell_type": "code",
   "execution_count": 7,
   "metadata": {
    "colab": {
     "base_uri": "https://localhost:8080/"
    },
    "id": "01854vlxuhG7",
    "outputId": "d70c9862-7dfa-429d-848e-d6821e62f965"
   },
   "outputs": [
    {
     "data": {
      "text/plain": [
       "array([-1,  0,  0, ...,  1, -1, -1])"
      ]
     },
     "execution_count": 7,
     "metadata": {
      "tags": []
     },
     "output_type": "execute_result"
    }
   ],
   "source": [
    "train_y"
   ]
  },
  {
   "cell_type": "code",
   "execution_count": 8,
   "metadata": {
    "id": "56M_5W26ZX_Y"
   },
   "outputs": [],
   "source": [
    "sequence_length = 256\n",
    "\n",
    "# Train\n",
    "train_x_processed = tokenizer.batch_encode_plus(\n",
    "        train_x,\n",
    "        return_tensors='tf',\n",
    "        add_special_tokens = True, # add [CLS], [SEP]\n",
    "        return_token_type_ids=True,\n",
    "        padding='max_length',\n",
    "        max_length=sequence_length,\n",
    "        return_attention_mask = True,\n",
    "        truncation='longest_first'\n",
    "    )"
   ]
  },
  {
   "cell_type": "code",
   "execution_count": 9,
   "metadata": {
    "colab": {
     "base_uri": "https://localhost:8080/"
    },
    "id": "jutrGypGkNtw",
    "outputId": "91e25057-cc81-4308-89c8-2ff2ff9269f8"
   },
   "outputs": [
    {
     "name": "stdout",
     "output_type": "stream",
     "text": [
      "dict_keys(['input_ids', 'token_type_ids', 'attention_mask'])\n"
     ]
    }
   ],
   "source": [
    "validate_x_processed = tokenizer.batch_encode_plus(\n",
    "        validate_x,\n",
    "        return_tensors='tf',\n",
    "        add_special_tokens = True, # add [CLS], [SEP]\n",
    "        return_token_type_ids=True,\n",
    "        padding='max_length',\n",
    "        max_length=sequence_length,\n",
    "        return_attention_mask = True,\n",
    "        truncation='longest_first'\n",
    "    )\n",
    "\n",
    "print(train_x_processed.keys())"
   ]
  },
  {
   "cell_type": "code",
   "execution_count": 10,
   "metadata": {
    "id": "3BnA9Ow6q8O6"
   },
   "outputs": [],
   "source": [
    "import tensorflow as tf"
   ]
  },
  {
   "cell_type": "code",
   "execution_count": 11,
   "metadata": {
    "id": "tur1MC0VpEJ2"
   },
   "outputs": [],
   "source": [
    "from tensorflow.keras.utils import to_categorical\n",
    "\n",
    "batch_size = 16\n",
    "num_classes = 3\n",
    "TRAIN_SHUFFLE_BUFFER_SIZE = len(train_x)\n",
    "VALIDATION_SHUFFLE_BUFFER_SIZE = len(validate_x)\n",
    "\n",
    "label2index = {-1: 0, 0: 1, 1: 2}\n",
    "train_processed_y = [label2index[label] for label in train_y]\n",
    "validate_processed_y = [label2index[label] for label in validate_y]\n",
    "\n",
    "# Converts to y to binary class matrix (One-hot-encoded)\n",
    "train_processed_y = to_categorical(train_processed_y, num_classes=num_classes, dtype='int32')\n",
    "validate_processed_y = to_categorical(validate_processed_y, num_classes=num_classes, dtype='int32')\n",
    "\n",
    "train_data = tf.data.Dataset.from_tensor_slices(((train_x_processed[\"input_ids\"],\n",
    "                                                  train_x_processed[\"token_type_ids\"],\n",
    "                                                  train_x_processed[\"attention_mask\"]), train_processed_y))\n",
    "validation_data = tf.data.Dataset.from_tensor_slices(((validate_x_processed[\"input_ids\"],\n",
    "                                                  validate_x_processed[\"token_type_ids\"],\n",
    "                                                  validate_x_processed[\"attention_mask\"]), validate_processed_y))"
   ]
  },
  {
   "cell_type": "code",
   "execution_count": 12,
   "metadata": {
    "colab": {
     "base_uri": "https://localhost:8080/"
    },
    "id": "j8b6uaL_q7HU",
    "outputId": "a7784868-3cd5-46d6-b34e-3739b3e072e1"
   },
   "outputs": [
    {
     "name": "stdout",
     "output_type": "stream",
     "text": [
      "train_data <PrefetchDataset shapes: (((None, 256), (None, 256), (None, 256)), (None, 3)), types: ((tf.int32, tf.int32, tf.int32), tf.int32)>\n",
      "validation_data <PrefetchDataset shapes: (((None, 256), (None, 256), (None, 256)), (None, 3)), types: ((tf.int32, tf.int32, tf.int32), tf.int32)>\n"
     ]
    }
   ],
   "source": [
    "AUTOTUNE = tf.data.experimental.AUTOTUNE\n",
    "\n",
    "train_data = train_data.shuffle(buffer_size=TRAIN_SHUFFLE_BUFFER_SIZE)\n",
    "train_data = train_data.batch(batch_size)\n",
    "train_data = train_data.prefetch(buffer_size=AUTOTUNE)\n",
    "\n",
    "##################\n",
    "# Validation data\n",
    "##################\n",
    "validation_data = validation_data.shuffle(buffer_size=VALIDATION_SHUFFLE_BUFFER_SIZE)\n",
    "validation_data = validation_data.batch(batch_size)\n",
    "validation_data = validation_data.prefetch(buffer_size=AUTOTUNE)\n",
    "\n",
    "print(\"train_data\",train_data)\n",
    "print(\"validation_data\",validation_data)"
   ]
  },
  {
   "cell_type": "code",
   "execution_count": 13,
   "metadata": {
    "colab": {
     "base_uri": "https://localhost:8080/",
     "height": 210,
     "referenced_widgets": [
      "24d42bfefe174090a9b58e116743b57e",
      "3e7081f188ec43cca7ad6c45a3ed49a9",
      "7cd18b8d12364fff80c1c00654535973",
      "124ad2a75a6b428c984ea22b56ee1ec9",
      "1f8f3cb884fe4870b3922f8ac14882e3",
      "3b51ec844c4c48b2b491239e1153093a",
      "808fb662148c4e14a6b1ea4b774415f0",
      "a339a2c4e9734f60890fe087788dfb94",
      "0734fa864f564cad86cb5a006293ab07",
      "d34bf365bfd841eaa25879acd07bf1a2",
      "3d99ec6b3dea4a358925c4a7e608e49d",
      "5f606efceaf04892aee3006c2d4dc12b",
      "59c35c3da4004047abc143ad46febfb9",
      "e87d68d2163b4f3cabb32080b7348d7a",
      "fff7275d070d45ed8a28ad4a013db18d",
      "f778f558772d4885815ba9012484cfcc"
     ]
    },
    "id": "amFGoT0nsg3J",
    "outputId": "33f1ddf9-7cfc-436d-c5e7-429701a56976"
   },
   "outputs": [
    {
     "data": {
      "application/vnd.jupyter.widget-view+json": {
       "model_id": "24d42bfefe174090a9b58e116743b57e",
       "version_major": 2,
       "version_minor": 0
      },
      "text/plain": [
       "HBox(children=(FloatProgress(value=0.0, description='Downloading', max=624.0, style=ProgressStyle(description_…"
      ]
     },
     "metadata": {
      "tags": []
     },
     "output_type": "display_data"
    },
    {
     "name": "stdout",
     "output_type": "stream",
     "text": [
      "\n"
     ]
    },
    {
     "data": {
      "application/vnd.jupyter.widget-view+json": {
       "model_id": "0734fa864f564cad86cb5a006293ab07",
       "version_major": 2,
       "version_minor": 0
      },
      "text/plain": [
       "HBox(children=(FloatProgress(value=0.0, description='Downloading', max=478309336.0, style=ProgressStyle(descri…"
      ]
     },
     "metadata": {
      "tags": []
     },
     "output_type": "display_data"
    },
    {
     "name": "stdout",
     "output_type": "stream",
     "text": [
      "\n"
     ]
    },
    {
     "name": "stderr",
     "output_type": "stream",
     "text": [
      "All model checkpoint layers were used when initializing TFBertForSequenceClassification.\n",
      "\n",
      "Some layers of TFBertForSequenceClassification were not initialized from the model checkpoint at bert-base-chinese and are newly initialized: ['classifier']\n",
      "You should probably TRAIN this model on a down-stream task to be able to use it for predictions and inference.\n"
     ]
    }
   ],
   "source": [
    "model1 = TFBertForSequenceClassification.from_pretrained('bert-base-chinese', num_labels=3)"
   ]
  },
  {
   "cell_type": "code",
   "execution_count": 14,
   "metadata": {
    "colab": {
     "base_uri": "https://localhost:8080/"
    },
    "id": "7S_COOt-s_Y8",
    "outputId": "f686b2ce-9f47-4a3a-b781-d639bcdc95a1"
   },
   "outputs": [
    {
     "name": "stdout",
     "output_type": "stream",
     "text": [
      "Model: \"tf_bert_for_sequence_classification\"\n",
      "_________________________________________________________________\n",
      "Layer (type)                 Output Shape              Param #   \n",
      "=================================================================\n",
      "bert (TFBertMainLayer)       multiple                  102267648 \n",
      "_________________________________________________________________\n",
      "dropout_37 (Dropout)         multiple                  0         \n",
      "_________________________________________________________________\n",
      "classifier (Dense)           multiple                  2307      \n",
      "=================================================================\n",
      "Total params: 102,269,955\n",
      "Trainable params: 102,269,955\n",
      "Non-trainable params: 0\n",
      "_________________________________________________________________\n"
     ]
    }
   ],
   "source": [
    "model1.summary()"
   ]
  },
  {
   "cell_type": "code",
   "execution_count": 15,
   "metadata": {
    "colab": {
     "base_uri": "https://localhost:8080/"
    },
    "id": "qL380zEHrDhz",
    "outputId": "a0b4c78f-67ef-466e-9841-ef227a8e725f"
   },
   "outputs": [
    {
     "name": "stdout",
     "output_type": "stream",
     "text": [
      "Epoch 1/30\n",
      "WARNING:tensorflow:The parameters `output_attentions`, `output_hidden_states` and `use_cache` cannot be updated when calling a model.They have to be set to True/False in the config object (i.e.: `config=XConfig.from_pretrained('name', output_attentions=True)`).\n",
      "WARNING:tensorflow:AutoGraph could not transform <bound method Socket.send of <zmq.sugar.socket.Socket object at 0x7f2767140d00>> and will run it as-is.\n",
      "Please report this to the TensorFlow team. When filing the bug, set the verbosity to 10 (on Linux, `export AUTOGRAPH_VERBOSITY=10`) and attach the full output.\n",
      "Cause: module, class, method, function, traceback, frame, or code object was expected, got cython_function_or_method\n",
      "To silence this warning, decorate the function with @tf.autograph.experimental.do_not_convert\n",
      "WARNING: AutoGraph could not transform <bound method Socket.send of <zmq.sugar.socket.Socket object at 0x7f2767140d00>> and will run it as-is.\n",
      "Please report this to the TensorFlow team. When filing the bug, set the verbosity to 10 (on Linux, `export AUTOGRAPH_VERBOSITY=10`) and attach the full output.\n",
      "Cause: module, class, method, function, traceback, frame, or code object was expected, got cython_function_or_method\n",
      "To silence this warning, decorate the function with @tf.autograph.experimental.do_not_convert\n",
      "WARNING:tensorflow:AutoGraph could not transform <function wrap at 0x7f27929edd40> and will run it as-is.\n",
      "Cause: while/else statement not yet supported\n",
      "To silence this warning, decorate the function with @tf.autograph.experimental.do_not_convert\n",
      "WARNING: AutoGraph could not transform <function wrap at 0x7f27929edd40> and will run it as-is.\n",
      "Cause: while/else statement not yet supported\n",
      "To silence this warning, decorate the function with @tf.autograph.experimental.do_not_convert\n",
      "WARNING:tensorflow:The parameter `return_dict` cannot be set in graph mode and will always be set to `True`.\n",
      "WARNING:tensorflow:The parameters `output_attentions`, `output_hidden_states` and `use_cache` cannot be updated when calling a model.They have to be set to True/False in the config object (i.e.: `config=XConfig.from_pretrained('name', output_attentions=True)`).\n",
      "WARNING:tensorflow:The parameter `return_dict` cannot be set in graph mode and will always be set to `True`.\n",
      "69/69 [==============================] - ETA: 0s - loss: 1.0856 - accuracy: 0.3868WARNING:tensorflow:The parameters `output_attentions`, `output_hidden_states` and `use_cache` cannot be updated when calling a model.They have to be set to True/False in the config object (i.e.: `config=XConfig.from_pretrained('name', output_attentions=True)`).\n",
      "WARNING:tensorflow:The parameter `return_dict` cannot be set in graph mode and will always be set to `True`.\n",
      "69/69 [==============================] - 73s 346ms/step - loss: 1.0850 - accuracy: 0.3877 - val_loss: 0.7647 - val_accuracy: 0.7117\n",
      "Epoch 2/30\n",
      "69/69 [==============================] - 21s 307ms/step - loss: 0.6472 - accuracy: 0.7499 - val_loss: 0.5243 - val_accuracy: 0.7993\n",
      "Epoch 3/30\n",
      "69/69 [==============================] - 21s 308ms/step - loss: 0.3846 - accuracy: 0.8679 - val_loss: 0.5557 - val_accuracy: 0.7701\n",
      "Epoch 4/30\n",
      "69/69 [==============================] - 21s 307ms/step - loss: 0.2280 - accuracy: 0.9310 - val_loss: 0.6702 - val_accuracy: 0.7701\n",
      "Epoch 5/30\n",
      "69/69 [==============================] - 21s 307ms/step - loss: 0.1570 - accuracy: 0.9521 - val_loss: 0.7254 - val_accuracy: 0.7847\n",
      "Epoch 6/30\n",
      "69/69 [==============================] - 21s 307ms/step - loss: 0.0847 - accuracy: 0.9705 - val_loss: 0.8979 - val_accuracy: 0.7737\n",
      "Epoch 7/30\n",
      "69/69 [==============================] - 21s 307ms/step - loss: 0.0970 - accuracy: 0.9678 - val_loss: 0.9537 - val_accuracy: 0.7555\n",
      "Epoch 8/30\n",
      "69/69 [==============================] - 21s 307ms/step - loss: 0.0399 - accuracy: 0.9895 - val_loss: 1.1424 - val_accuracy: 0.7445\n",
      "Epoch 9/30\n",
      "69/69 [==============================] - 21s 307ms/step - loss: 0.0387 - accuracy: 0.9891 - val_loss: 1.0308 - val_accuracy: 0.7518\n",
      "Epoch 10/30\n",
      "69/69 [==============================] - 21s 307ms/step - loss: 0.0467 - accuracy: 0.9838 - val_loss: 1.0284 - val_accuracy: 0.7518\n",
      "Epoch 11/30\n",
      "69/69 [==============================] - 21s 307ms/step - loss: 0.0247 - accuracy: 0.9908 - val_loss: 1.1403 - val_accuracy: 0.7372\n",
      "Epoch 12/30\n",
      "69/69 [==============================] - 21s 307ms/step - loss: 0.0400 - accuracy: 0.9855 - val_loss: 0.9974 - val_accuracy: 0.7883\n",
      "Epoch 13/30\n",
      "69/69 [==============================] - 21s 307ms/step - loss: 0.0503 - accuracy: 0.9923 - val_loss: 1.1593 - val_accuracy: 0.7628\n",
      "Epoch 14/30\n",
      "69/69 [==============================] - 21s 307ms/step - loss: 0.0140 - accuracy: 0.9938 - val_loss: 1.3894 - val_accuracy: 0.7774\n",
      "Epoch 15/30\n",
      "69/69 [==============================] - 21s 307ms/step - loss: 0.0781 - accuracy: 0.9805 - val_loss: 1.0790 - val_accuracy: 0.7774\n",
      "Epoch 16/30\n",
      "69/69 [==============================] - 21s 307ms/step - loss: 0.0628 - accuracy: 0.9783 - val_loss: 1.3221 - val_accuracy: 0.7664\n",
      "Epoch 17/30\n",
      "69/69 [==============================] - 21s 307ms/step - loss: 0.0281 - accuracy: 0.9917 - val_loss: 1.0916 - val_accuracy: 0.7847\n",
      "Epoch 18/30\n",
      "69/69 [==============================] - 21s 307ms/step - loss: 0.0249 - accuracy: 0.9908 - val_loss: 1.1899 - val_accuracy: 0.7591\n",
      "Epoch 19/30\n",
      "69/69 [==============================] - 21s 307ms/step - loss: 0.0250 - accuracy: 0.9953 - val_loss: 1.1555 - val_accuracy: 0.7920\n",
      "Epoch 20/30\n",
      "69/69 [==============================] - 21s 307ms/step - loss: 0.0074 - accuracy: 0.9995 - val_loss: 1.2379 - val_accuracy: 0.7810\n",
      "Epoch 21/30\n",
      "69/69 [==============================] - 21s 307ms/step - loss: 0.0033 - accuracy: 1.0000 - val_loss: 1.2923 - val_accuracy: 0.7847\n",
      "Epoch 22/30\n",
      "69/69 [==============================] - 21s 307ms/step - loss: 0.0059 - accuracy: 0.9989 - val_loss: 1.1546 - val_accuracy: 0.8029\n",
      "Epoch 23/30\n",
      "69/69 [==============================] - 21s 307ms/step - loss: 0.0016 - accuracy: 1.0000 - val_loss: 1.2560 - val_accuracy: 0.8175\n",
      "Epoch 24/30\n",
      "69/69 [==============================] - 21s 307ms/step - loss: 0.0015 - accuracy: 1.0000 - val_loss: 1.2857 - val_accuracy: 0.8066\n",
      "Epoch 25/30\n",
      "69/69 [==============================] - 21s 307ms/step - loss: 0.0012 - accuracy: 1.0000 - val_loss: 1.3451 - val_accuracy: 0.8029\n",
      "Epoch 26/30\n",
      "69/69 [==============================] - 21s 307ms/step - loss: 8.5871e-04 - accuracy: 1.0000 - val_loss: 1.3682 - val_accuracy: 0.7956\n",
      "Epoch 27/30\n",
      "69/69 [==============================] - 21s 307ms/step - loss: 6.8506e-04 - accuracy: 1.0000 - val_loss: 1.3762 - val_accuracy: 0.7956\n",
      "Epoch 28/30\n",
      "69/69 [==============================] - 21s 307ms/step - loss: 6.3470e-04 - accuracy: 1.0000 - val_loss: 1.3919 - val_accuracy: 0.7993\n",
      "Epoch 29/30\n",
      "69/69 [==============================] - 21s 307ms/step - loss: 5.8196e-04 - accuracy: 1.0000 - val_loss: 1.4066 - val_accuracy: 0.8066\n",
      "Epoch 30/30\n",
      "69/69 [==============================] - 21s 307ms/step - loss: 5.5228e-04 - accuracy: 1.0000 - val_loss: 1.4231 - val_accuracy: 0.8029\n",
      "Training execution time (mins) 11.442743877569834\n"
     ]
    }
   ],
   "source": [
    "import time\n",
    "from tensorflow.python.keras import backend as K\n",
    "K.clear_session()\n",
    "\n",
    "learning_rate = 2e-5\n",
    "epochs = 30\n",
    "\n",
    "optimizer = keras.optimizers.Adam(lr=learning_rate, epsilon=1e-08)\n",
    "# Loss\n",
    "loss = keras.losses.CategoricalCrossentropy(from_logits=True)\n",
    "\n",
    "# Compile\n",
    "model1.compile(loss=loss,\n",
    "                  optimizer=optimizer,\n",
    "                  metrics=['accuracy'])\n",
    "\n",
    "# Train model\n",
    "\n",
    "start_time = time.time()\n",
    "training_results = model1.fit(\n",
    "        train_data,\n",
    "        validation_data=validation_data,\n",
    "        epochs=epochs, \n",
    "        verbose=1)\n",
    "execution_time = (time.time() - start_time)/60.0\n",
    "print(\"Training execution time (mins)\",execution_time)"
   ]
  },
  {
   "cell_type": "markdown",
   "metadata": {
    "id": "4heL0tjw145E"
   },
   "source": [
    "Motivated by FinBERT package, when we train Chinese BERT models, we also get predictions which are represented in three different columns:\n",
    "\n",
    "1) logit: probabilities for each class\n",
    "\n",
    "2) prediction: predicted label\n",
    "\n",
    "3) sentiment_score: sentiment score calculated as: probability of positive - probability of negative"
   ]
  },
  {
   "cell_type": "code",
   "execution_count": 16,
   "metadata": {
    "id": "Y1UAN2B71zrj"
   },
   "outputs": [],
   "source": [
    "import numpy as np\n",
    "\n",
    "def get_prediction(model, data):\n",
    "    y_pred_bert = model.predict(data)\n",
    "    logits = tf.nn.softmax(y_pred_bert[\"logits\"])\n",
    "    y_preds = np.argmax(y_pred_bert['logits'], axis=1)\n",
    "    y_preds[np.where(y_preds == 0)] = -1\n",
    "    y_preds[np.where(y_preds == 1)] = 0\n",
    "    y_preds[np.where(y_preds == 2)] = 1\n",
    "    senti_score = logits[:, 2] - logits[:, 0]\n",
    "\n",
    "    return logits, y_preds, senti_score"
   ]
  },
  {
   "cell_type": "code",
   "execution_count": 17,
   "metadata": {
    "id": "5UWbkCmnGfzp"
   },
   "outputs": [],
   "source": [
    "import matplotlib.pyplot as plt\n",
    "from sklearn.metrics import f1_score, confusion_matrix\n",
    "import json\n",
    "from tensorflow.python.keras.utils.layer_utils import count_params\n",
    "\n",
    "def save_model(model, path=\"models\",model_name=\"model01\"):\n",
    "\n",
    "    # Ensure path exists\n",
    "    if not os.path.exists(path):\n",
    "        os.mkdir(path)\n",
    "\n",
    "    if isinstance(model,TFBertForSequenceClassification):\n",
    "      #model.save_pretrained(path)\n",
    "      model.save_weights(os.path.join(path,model_name+\".h5\"))\n",
    "    else:\n",
    "      # Save the enitire model (structure + weights)\n",
    "      model.save(os.path.join(path,model_name+\".hdf5\"))\n",
    "\n",
    "      # Save only the weights\n",
    "      model.save_weights(os.path.join(path,model_name+\".h5\"))\n",
    "\n",
    "      # Save the structure only\n",
    "      model_json = model.to_json()\n",
    "      with open(os.path.join(path,model_name+\".json\"), \"w\") as json_file:\n",
    "          json_file.write(model_json)\n",
    "\n",
    "def get_model_size(path=\"models\",model_name=\"model01\"):\n",
    "    model_size = os.stat(os.path.join(path,model_name+\".h5\")).st_size\n",
    "    return model_size\n",
    "\n",
    "class JsonEncoder(json.JSONEncoder):\n",
    "    def default(self, obj):\n",
    "        if isinstance(obj, np.integer):\n",
    "            return int(obj)\n",
    "        elif isinstance(obj, np.floating):\n",
    "            return float(obj)\n",
    "        elif isinstance(obj, decimal.Decimal):\n",
    "            return float(obj)\n",
    "        elif isinstance(obj, np.ndarray):\n",
    "            return obj.tolist()\n",
    "        else:\n",
    "            return super(JsonEncoder, self).default(obj)\n",
    "\n",
    "def evaluate_save_model(model,test_data, training_results,execution_time, learning_rate, epochs,save=True):\n",
    "    \n",
    "    # Get the model train history\n",
    "    model_train_history = training_results.history\n",
    "    # Get the number of epochs the training was run for\n",
    "    num_epochs = len(model_train_history[\"loss\"])\n",
    "\n",
    "    # Plot training results\n",
    "    fig = plt.figure(figsize=(20,5))\n",
    "    axs = fig.add_subplot(1,3,1)\n",
    "    axs.set_title('Loss')\n",
    "    # Plot all metrics\n",
    "    for metric in [\"loss\",\"val_loss\"]:\n",
    "        axs.plot(np.arange(0, num_epochs), model_train_history[metric], label=metric)\n",
    "    axs.legend()\n",
    "    \n",
    "    axs = fig.add_subplot(1,3,2)\n",
    "    axs.set_title('Accuracy')\n",
    "    # Plot all metrics\n",
    "    for metric in [\"accuracy\",\"val_accuracy\"]:\n",
    "        axs.plot(np.arange(0, num_epochs), model_train_history[metric], label=metric)\n",
    "    axs.legend()\n",
    "\n",
    "    plt.show()\n",
    "    \n",
    "    # Evaluate on test data\n",
    "    evaluation_results = model.evaluate(test_data)\n",
    "    print(evaluation_results)\n",
    "    \n",
    "    if save:\n",
    "        # Save model\n",
    "        save_model(model, model_name=model.name)\n",
    "        model_size = get_model_size(model_name=model.name)\n",
    "\n",
    "        # Save model history\n",
    "        with open(os.path.join(\"models\",model.name+\"_train_history.json\"), \"w\") as json_file:\n",
    "            json_file.write(json.dumps(model_train_history,cls=JsonEncoder))\n",
    "\n",
    "        trainable_parameters = count_params(model.trainable_weights)\n",
    "        non_trainable_parameters = count_params(model.non_trainable_weights)\n",
    "\n",
    "        # Save model metrics\n",
    "        metrics ={\n",
    "            \"trainable_parameters\":trainable_parameters,\n",
    "            \"execution_time\":execution_time,\n",
    "            \"loss\":evaluation_results[0],\n",
    "            \"accuracy\":evaluation_results[1],\n",
    "            \"model_size\":model_size,\n",
    "            \"learning_rate\":learning_rate,\n",
    "            \"epochs\":epochs,\n",
    "            \"name\": model.name,\n",
    "            \"id\": int(time.time())\n",
    "        }\n",
    "        with open(os.path.join(\"models\",model.name+\"_metrics.json\"), \"w\") as json_file:\n",
    "            json_file.write(json.dumps(metrics,cls=JsonEncoder))"
   ]
  },
  {
   "cell_type": "code",
   "execution_count": 18,
   "metadata": {
    "colab": {
     "base_uri": "https://localhost:8080/",
     "height": 373
    },
    "id": "p2Q453ctGqIl",
    "outputId": "2e783996-09ad-44b7-b6ee-74847a7ebbf5"
   },
   "outputs": [
    {
     "data": {
      "image/png": "[encoded data removed]",
      "text/plain": [
       "<Figure size 1440x360 with 2 Axes>"
      ]
     },
     "metadata": {
      "needs_background": "light",
      "tags": []
     },
     "output_type": "display_data"
    },
    {
     "name": "stdout",
     "output_type": "stream",
     "text": [
      "18/18 [==============================] - 2s 99ms/step - loss: 1.4231 - accuracy: 0.8029\n",
      "[1.4231419563293457, 0.8029196858406067]\n"
     ]
    }
   ],
   "source": [
    "evaluate_save_model(model1, validation_data, training_results, execution_time, learning_rate, epochs)"
   ]
  },
  {
   "cell_type": "code",
   "execution_count": 19,
   "metadata": {
    "colab": {
     "base_uri": "https://localhost:8080/"
    },
    "id": "E2DziRGnL7g9",
    "outputId": "af8c3f3a-109f-4fec-f6ae-8afb0445fc67"
   },
   "outputs": [
    {
     "name": "stdout",
     "output_type": "stream",
     "text": [
      "                                                   text              file_name\n",
      "0         华西证券股份有限公司研究报告转发给他人pHUAXI SECURITIES CO, LTD,  000671-20201109-0.txt\n",
      "1     公司修正2020年度业绩预告,四季度业结畋超预期■事件:2021年1月29日,公司发布202...  002044-20210131-0.txt\n",
      "2                               ■业绩预期变动主要由投资收益和计提减值准备所致  002044-20210131-0.txt\n",
      "3     公司本次修改2020年业绩预告的主要原因在于投资收益和计提减值准备造成的影响:(1)2020...  002044-20210131-0.txt\n",
      "4     公司主营业务为健康体检服务,2020年上半年受新冠疫情影响冲击较大,下半年随着疫情得到较好控...  002044-20210131-0.txt\n",
      "...                                                 ...                    ...\n",
      "7840              预计19-21年高端白酒消费量CAGR约10%,高端白酒均价CAGR约5%  000858-20191231-0.txt\n",
      "7841                                 发展势能增强,蓄力集团“后干亿”时代  000858-20191231-0.txt\n",
      "7842  19年作为营销改革年,全面导入控盘分利模式,利用数字化赋能推动转型,从高层架构到渠道人员都进...  000858-20191231-0.txt\n",
      "7843  我们认为公司已由过去的“增量改革”开始转变为“存量改革”,持续升级的改革措施将大大强化公司发...  000858-20191231-0.txt\n",
      "7844  我们认为19年公司营销改革成效显著,叠加产品更新升级、管理效率提升效应和数字化赋能转型,预计...  000858-20191231-0.txt\n",
      "\n",
      "[7845 rows x 2 columns]\n"
     ]
    }
   ],
   "source": [
    "data_test = pd.read_csv(\"data/sentense_full.csv\", encoding='utf_8_sig')\n",
    "print(data_test)"
   ]
  },
  {
   "cell_type": "code",
   "execution_count": 20,
   "metadata": {
    "id": "q-hp8U0DMI30"
   },
   "outputs": [],
   "source": [
    "test_x = data_test[\"text\"].values\n",
    "test_x_processed = tokenizer.batch_encode_plus(\n",
    "        test_x,\n",
    "        return_tensors='tf',\n",
    "        add_special_tokens = True, # add [CLS], [SEP]\n",
    "        return_token_type_ids=True,\n",
    "        padding='max_length',\n",
    "        max_length=sequence_length,\n",
    "        return_attention_mask = True,\n",
    "        truncation='longest_first'\n",
    "    )"
   ]
  },
  {
   "cell_type": "code",
   "execution_count": 21,
   "metadata": {
    "id": "2ZgmaRUGMYro"
   },
   "outputs": [],
   "source": [
    "test_data = tf.data.Dataset.from_tensor_slices((test_x_processed[\"input_ids\"],\n",
    "                                                  test_x_processed[\"token_type_ids\"],\n",
    "                                                  test_x_processed[\"attention_mask\"]))\n",
    "test_data = test_data.batch(batch_size)\n",
    "test_data = test_data.prefetch(buffer_size=AUTOTUNE)"
   ]
  },
  {
   "cell_type": "code",
   "execution_count": 22,
   "metadata": {
    "colab": {
     "base_uri": "https://localhost:8080/"
    },
    "id": "2u8jVMW7rNUM",
    "outputId": "34281e9b-6184-4658-9a6d-d5a0309eb2d1"
   },
   "outputs": [
    {
     "name": "stdout",
     "output_type": "stream",
     "text": [
      "WARNING:tensorflow:The parameters `output_attentions`, `output_hidden_states` and `use_cache` cannot be updated when calling a model.They have to be set to True/False in the config object (i.e.: `config=XConfig.from_pretrained('name', output_attentions=True)`).\n",
      "WARNING:tensorflow:The parameter `return_dict` cannot be set in graph mode and will always be set to `True`.\n"
     ]
    }
   ],
   "source": [
    "logits_validate, y_preds_validate, senti_validate = get_prediction(model1, test_data)"
   ]
  },
  {
   "cell_type": "code",
   "execution_count": 23,
   "metadata": {
    "id": "UFbMKrDzNahD"
   },
   "outputs": [],
   "source": [
    "df_results = data_test.copy()\n",
    "df_results[\"logit\"] = list(logits_validate.numpy())\n",
    "df_results[\"prediction\"] = y_preds_validate\n",
    "df_results[\"sentiment_score\"] = senti_validate"
   ]
  },
  {
   "cell_type": "code",
   "execution_count": 24,
   "metadata": {
    "colab": {
     "base_uri": "https://localhost:8080/",
     "height": 521
    },
    "id": "kqD9istdNpt_",
    "outputId": "3f1d26d3-eb1e-49b9-9ec8-f777c92d7b4c"
   },
   "outputs": [
    {
     "data": {
      "text/html": [
       "<div>\n",
       "<style scoped>\n",
       "    .dataframe tbody tr th:only-of-type {\n",
       "        vertical-align: middle;\n",
       "    }\n",
       "\n",
       "    .dataframe tbody tr th {\n",
       "        vertical-align: top;\n",
       "    }\n",
       "\n",
       "    .dataframe thead th {\n",
       "        text-align: right;\n",
       "    }\n",
       "</style>\n",
       "<table border=\"1\" class=\"dataframe\">\n",
       "  <thead>\n",
       "    <tr style=\"text-align: right;\">\n",
       "      <th></th>\n",
       "      <th>text</th>\n",
       "      <th>file_name</th>\n",
       "      <th>logit</th>\n",
       "      <th>prediction</th>\n",
       "      <th>sentiment_score</th>\n",
       "    </tr>\n",
       "  </thead>\n",
       "  <tbody>\n",
       "    <tr>\n",
       "      <th>0</th>\n",
       "      <td>华西证券股份有限公司研究报告转发给他人pHUAXI SECURITIES CO, LTD,</td>\n",
       "      <td>000671-20201109-0.txt</td>\n",
       "      <td>[0.004584774, 0.99411523, 0.0012999364]</td>\n",
       "      <td>0</td>\n",
       "      <td>-0.003285</td>\n",
       "    </tr>\n",
       "    <tr>\n",
       "      <th>1</th>\n",
       "      <td>公司修正2020年度业绩预告,四季度业结畋超预期■事件:2021年1月29日,公司发布202...</td>\n",
       "      <td>002044-20210131-0.txt</td>\n",
       "      <td>[0.00013832311, 0.0007638273, 0.9990978]</td>\n",
       "      <td>1</td>\n",
       "      <td>0.998959</td>\n",
       "    </tr>\n",
       "    <tr>\n",
       "      <th>2</th>\n",
       "      <td>■业绩预期变动主要由投资收益和计提减值准备所致</td>\n",
       "      <td>002044-20210131-0.txt</td>\n",
       "      <td>[0.0018250061, 0.9976667, 0.0005082852]</td>\n",
       "      <td>0</td>\n",
       "      <td>-0.001317</td>\n",
       "    </tr>\n",
       "    <tr>\n",
       "      <th>3</th>\n",
       "      <td>公司本次修改2020年业绩预告的主要原因在于投资收益和计提减值准备造成的影响:(1)2020...</td>\n",
       "      <td>002044-20210131-0.txt</td>\n",
       "      <td>[0.9286828, 0.070356086, 0.00096103543]</td>\n",
       "      <td>-1</td>\n",
       "      <td>-0.927722</td>\n",
       "    </tr>\n",
       "    <tr>\n",
       "      <th>4</th>\n",
       "      <td>公司主营业务为健康体检服务,2020年上半年受新冠疫情影响冲击较大,下半年随着疫情得到较好控...</td>\n",
       "      <td>002044-20210131-0.txt</td>\n",
       "      <td>[0.057634704, 0.8084528, 0.13391249]</td>\n",
       "      <td>0</td>\n",
       "      <td>0.076278</td>\n",
       "    </tr>\n",
       "    <tr>\n",
       "      <th>5</th>\n",
       "      <td>如果剔除投资收益和减值准备带来的业绩影响,预计公司2020年全年仍可实现扭亏为盈</td>\n",
       "      <td>002044-20210131-0.txt</td>\n",
       "      <td>[0.00056416757, 0.6518096, 0.3476262]</td>\n",
       "      <td>0</td>\n",
       "      <td>0.347062</td>\n",
       "    </tr>\n",
       "    <tr>\n",
       "      <th>6</th>\n",
       "      <td>考虑到公司2020年前三季度累计实现营业收入44.19亿元,累计实现归母净亏损5.17亿元,...</td>\n",
       "      <td>002044-20210131-0.txt</td>\n",
       "      <td>[0.0029743074, 0.20482609, 0.7921996]</td>\n",
       "      <td>1</td>\n",
       "      <td>0.789225</td>\n",
       "    </tr>\n",
       "    <tr>\n",
       "      <th>7</th>\n",
       "      <td>“自建+并购”的发展模式帮助公司在短时间内实现全国布局,同时也带来了巨大的管理压力2018年...</td>\n",
       "      <td>002044-20210131-0.txt</td>\n",
       "      <td>[0.99707174, 0.0024381592, 0.00049001613]</td>\n",
       "      <td>-1</td>\n",
       "      <td>-0.996582</td>\n",
       "    </tr>\n",
       "    <tr>\n",
       "      <th>8</th>\n",
       "      <td>2019年公司牵手阿里以来,管理层发生数次重大变更,阿里系高管的入驻有望协助公司改善内部治理...</td>\n",
       "      <td>002044-20210131-0.txt</td>\n",
       "      <td>[9.564509e-05, 0.0004483332, 0.999456]</td>\n",
       "      <td>1</td>\n",
       "      <td>0.999360</td>\n",
       "    </tr>\n",
       "    <tr>\n",
       "      <th>9</th>\n",
       "      <td>我们认为,公司管理提升的效果已经初步显现,有望走出过去3年的低谷期,2021年或将成为新征程</td>\n",
       "      <td>002044-20210131-0.txt</td>\n",
       "      <td>[0.00010666599, 0.0011523892, 0.998741]</td>\n",
       "      <td>1</td>\n",
       "      <td>0.998634</td>\n",
       "    </tr>\n",
       "  </tbody>\n",
       "</table>\n",
       "</div>"
      ],
      "text/plain": [
       "                                                text  ... sentiment_score\n",
       "0      华西证券股份有限公司研究报告转发给他人pHUAXI SECURITIES CO, LTD,  ...       -0.003285\n",
       "1  公司修正2020年度业绩预告,四季度业结畋超预期■事件:2021年1月29日,公司发布202...  ...        0.998959\n",
       "2                            ■业绩预期变动主要由投资收益和计提减值准备所致  ...       -0.001317\n",
       "3  公司本次修改2020年业绩预告的主要原因在于投资收益和计提减值准备造成的影响:(1)2020...  ...       -0.927722\n",
       "4  公司主营业务为健康体检服务,2020年上半年受新冠疫情影响冲击较大,下半年随着疫情得到较好控...  ...        0.076278\n",
       "5           如果剔除投资收益和减值准备带来的业绩影响,预计公司2020年全年仍可实现扭亏为盈  ...        0.347062\n",
       "6  考虑到公司2020年前三季度累计实现营业收入44.19亿元,累计实现归母净亏损5.17亿元,...  ...        0.789225\n",
       "7  “自建+并购”的发展模式帮助公司在短时间内实现全国布局,同时也带来了巨大的管理压力2018年...  ...       -0.996582\n",
       "8  2019年公司牵手阿里以来,管理层发生数次重大变更,阿里系高管的入驻有望协助公司改善内部治理...  ...        0.999360\n",
       "9     我们认为,公司管理提升的效果已经初步显现,有望走出过去3年的低谷期,2021年或将成为新征程  ...        0.998634\n",
       "\n",
       "[10 rows x 5 columns]"
      ]
     },
     "execution_count": 24,
     "metadata": {
      "tags": []
     },
     "output_type": "execute_result"
    }
   ],
   "source": [
    "df_results.head(10)"
   ]
  },
  {
   "cell_type": "code",
   "execution_count": 25,
   "metadata": {
    "id": "h2bcP0UDOKKk"
   },
   "outputs": [],
   "source": [
    "senti_df = df_results[[\"file_name\", \"sentiment_score\"]].groupby([\"file_name\"]).mean()\n",
    "senti_df = senti_df.reset_index()"
   ]
  },
  {
   "cell_type": "code",
   "execution_count": 26,
   "metadata": {
    "colab": {
     "base_uri": "https://localhost:8080/",
     "height": 348
    },
    "id": "3fagwCa9O9gw",
    "outputId": "20e406a9-bb17-4114-bda4-2839054774ac"
   },
   "outputs": [
    {
     "data": {
      "text/html": [
       "<div>\n",
       "<style scoped>\n",
       "    .dataframe tbody tr th:only-of-type {\n",
       "        vertical-align: middle;\n",
       "    }\n",
       "\n",
       "    .dataframe tbody tr th {\n",
       "        vertical-align: top;\n",
       "    }\n",
       "\n",
       "    .dataframe thead th {\n",
       "        text-align: right;\n",
       "    }\n",
       "</style>\n",
       "<table border=\"1\" class=\"dataframe\">\n",
       "  <thead>\n",
       "    <tr style=\"text-align: right;\">\n",
       "      <th></th>\n",
       "      <th>file_name</th>\n",
       "      <th>sentiment_score</th>\n",
       "    </tr>\n",
       "  </thead>\n",
       "  <tbody>\n",
       "    <tr>\n",
       "      <th>0</th>\n",
       "      <td>000001-20111051-0.txt</td>\n",
       "      <td>0.304340</td>\n",
       "    </tr>\n",
       "    <tr>\n",
       "      <th>1</th>\n",
       "      <td>000001-20160309-0.txt</td>\n",
       "      <td>0.553912</td>\n",
       "    </tr>\n",
       "    <tr>\n",
       "      <th>2</th>\n",
       "      <td>000001-20160421-0.txt</td>\n",
       "      <td>0.321736</td>\n",
       "    </tr>\n",
       "    <tr>\n",
       "      <th>3</th>\n",
       "      <td>000001-20190428-0.txt</td>\n",
       "      <td>0.649150</td>\n",
       "    </tr>\n",
       "    <tr>\n",
       "      <th>4</th>\n",
       "      <td>000001-20200828-0.txt</td>\n",
       "      <td>0.099700</td>\n",
       "    </tr>\n",
       "    <tr>\n",
       "      <th>5</th>\n",
       "      <td>000001-20201026-0.txt</td>\n",
       "      <td>0.215459</td>\n",
       "    </tr>\n",
       "    <tr>\n",
       "      <th>6</th>\n",
       "      <td>000001-20210129-0.txt</td>\n",
       "      <td>0.369750</td>\n",
       "    </tr>\n",
       "    <tr>\n",
       "      <th>7</th>\n",
       "      <td>000001-20210201-0.txt</td>\n",
       "      <td>0.275722</td>\n",
       "    </tr>\n",
       "    <tr>\n",
       "      <th>8</th>\n",
       "      <td>000001-20210202-0.txt</td>\n",
       "      <td>0.006233</td>\n",
       "    </tr>\n",
       "    <tr>\n",
       "      <th>9</th>\n",
       "      <td>000002-20111129-0.txt</td>\n",
       "      <td>-0.050356</td>\n",
       "    </tr>\n",
       "  </tbody>\n",
       "</table>\n",
       "</div>"
      ],
      "text/plain": [
       "               file_name  sentiment_score\n",
       "0  000001-20111051-0.txt         0.304340\n",
       "1  000001-20160309-0.txt         0.553912\n",
       "2  000001-20160421-0.txt         0.321736\n",
       "3  000001-20190428-0.txt         0.649150\n",
       "4  000001-20200828-0.txt         0.099700\n",
       "5  000001-20201026-0.txt         0.215459\n",
       "6  000001-20210129-0.txt         0.369750\n",
       "7  000001-20210201-0.txt         0.275722\n",
       "8  000001-20210202-0.txt         0.006233\n",
       "9  000002-20111129-0.txt        -0.050356"
      ]
     },
     "execution_count": 26,
     "metadata": {
      "tags": []
     },
     "output_type": "execute_result"
    }
   ],
   "source": [
    "senti_df.head(10)"
   ]
  },
  {
   "cell_type": "code",
   "execution_count": 27,
   "metadata": {
    "id": "nGo06UwHPdSc"
   },
   "outputs": [],
   "source": [
    "df_results.to_csv(\"data/result_Chinese_bert.csv\", encoding='utf_8_sig')"
   ]
  },
  {
   "cell_type": "code",
   "execution_count": 28,
   "metadata": {
    "id": "Iey0YwB8O-K8"
   },
   "outputs": [],
   "source": [
    "senti_df.to_csv(\"data/senti_Chinese_bert.csv\")"
   ]
  },
  {
   "cell_type": "code",
   "execution_count": 29,
   "metadata": {
    "id": "zqiUXaI2PlFc"
   },
   "outputs": [],
   "source": [
    "senti_df_finbert = pd.read_csv(\"data/sentiment_finbert_full_final.csv\")\n",
    "senti_df_finbert = senti_df_finbert[[\"file_name\", \"sentiment_score\"]].groupby([\"file_name\"]).mean()\n",
    "senti_df_finbert = senti_df_finbert.reset_index()"
   ]
  },
  {
   "cell_type": "code",
   "execution_count": 30,
   "metadata": {
    "colab": {
     "base_uri": "https://localhost:8080/"
    },
    "id": "wSHR05lbQnq5",
    "outputId": "864343e4-26e8-4fc4-debc-94f4f6df2955"
   },
   "outputs": [
    {
     "data": {
      "text/plain": [
       "(609, 2)"
      ]
     },
     "execution_count": 30,
     "metadata": {
      "tags": []
     },
     "output_type": "execute_result"
    }
   ],
   "source": [
    "senti_df_finbert.shape"
   ]
  },
  {
   "cell_type": "code",
   "execution_count": 31,
   "metadata": {
    "colab": {
     "base_uri": "https://localhost:8080/"
    },
    "id": "1khbo5K_QoiY",
    "outputId": "e396839f-3e8d-4521-d019-c259a6cdc7a2"
   },
   "outputs": [
    {
     "data": {
      "text/plain": [
       "(632, 2)"
      ]
     },
     "execution_count": 31,
     "metadata": {
      "tags": []
     },
     "output_type": "execute_result"
    }
   ],
   "source": [
    "senti_df.shape"
   ]
  },
  {
   "cell_type": "code",
   "execution_count": 32,
   "metadata": {
    "id": "auwOlm3gQsbR"
   },
   "outputs": [],
   "source": [
    "senti_df = senti_df.set_index(\"file_name\")\n",
    "senti_df = senti_df.reindex(senti_df_finbert[\"file_name\"].values)\n",
    "senti_df[\"sentiment_score_finbert\"] = senti_df_finbert[\"sentiment_score\"].values"
   ]
  },
  {
   "cell_type": "code",
   "execution_count": 33,
   "metadata": {
    "colab": {
     "base_uri": "https://localhost:8080/",
     "height": 437
    },
    "id": "mUya2VYPQ-CF",
    "outputId": "dc20bec9-b28e-453f-891c-98b034783650"
   },
   "outputs": [
    {
     "data": {
      "text/html": [
       "<div>\n",
       "<style scoped>\n",
       "    .dataframe tbody tr th:only-of-type {\n",
       "        vertical-align: middle;\n",
       "    }\n",
       "\n",
       "    .dataframe tbody tr th {\n",
       "        vertical-align: top;\n",
       "    }\n",
       "\n",
       "    .dataframe thead th {\n",
       "        text-align: right;\n",
       "    }\n",
       "</style>\n",
       "<table border=\"1\" class=\"dataframe\">\n",
       "  <thead>\n",
       "    <tr style=\"text-align: right;\">\n",
       "      <th></th>\n",
       "      <th>sentiment_score</th>\n",
       "      <th>sentiment_score_finbert</th>\n",
       "    </tr>\n",
       "    <tr>\n",
       "      <th>file_name</th>\n",
       "      <th></th>\n",
       "      <th></th>\n",
       "    </tr>\n",
       "  </thead>\n",
       "  <tbody>\n",
       "    <tr>\n",
       "      <th>000001-20111051-0.txt</th>\n",
       "      <td>0.304340</td>\n",
       "      <td>0.013028</td>\n",
       "    </tr>\n",
       "    <tr>\n",
       "      <th>000001-20160309-0.txt</th>\n",
       "      <td>0.553912</td>\n",
       "      <td>0.726259</td>\n",
       "    </tr>\n",
       "    <tr>\n",
       "      <th>000001-20160421-0.txt</th>\n",
       "      <td>0.321736</td>\n",
       "      <td>0.896930</td>\n",
       "    </tr>\n",
       "    <tr>\n",
       "      <th>000001-20190428-0.txt</th>\n",
       "      <td>0.649150</td>\n",
       "      <td>0.917128</td>\n",
       "    </tr>\n",
       "    <tr>\n",
       "      <th>000001-20200828-0.txt</th>\n",
       "      <td>0.099700</td>\n",
       "      <td>0.889456</td>\n",
       "    </tr>\n",
       "    <tr>\n",
       "      <th>...</th>\n",
       "      <td>...</td>\n",
       "      <td>...</td>\n",
       "    </tr>\n",
       "    <tr>\n",
       "      <th>603858-20170426-0.txt</th>\n",
       "      <td>0.383196</td>\n",
       "      <td>0.911597</td>\n",
       "    </tr>\n",
       "    <tr>\n",
       "      <th>603858-20190428-0.txt</th>\n",
       "      <td>0.438413</td>\n",
       "      <td>0.126759</td>\n",
       "    </tr>\n",
       "    <tr>\n",
       "      <th>603993-20201029-0.txt</th>\n",
       "      <td>0.439939</td>\n",
       "      <td>0.436567</td>\n",
       "    </tr>\n",
       "    <tr>\n",
       "      <th>603993-20201102-0.txt</th>\n",
       "      <td>0.639615</td>\n",
       "      <td>0.913706</td>\n",
       "    </tr>\n",
       "    <tr>\n",
       "      <th>603993-20201214-0.txt</th>\n",
       "      <td>0.478207</td>\n",
       "      <td>0.828386</td>\n",
       "    </tr>\n",
       "  </tbody>\n",
       "</table>\n",
       "<p>609 rows × 2 columns</p>\n",
       "</div>"
      ],
      "text/plain": [
       "                       sentiment_score  sentiment_score_finbert\n",
       "file_name                                                      \n",
       "000001-20111051-0.txt         0.304340                 0.013028\n",
       "000001-20160309-0.txt         0.553912                 0.726259\n",
       "000001-20160421-0.txt         0.321736                 0.896930\n",
       "000001-20190428-0.txt         0.649150                 0.917128\n",
       "000001-20200828-0.txt         0.099700                 0.889456\n",
       "...                                ...                      ...\n",
       "603858-20170426-0.txt         0.383196                 0.911597\n",
       "603858-20190428-0.txt         0.438413                 0.126759\n",
       "603993-20201029-0.txt         0.439939                 0.436567\n",
       "603993-20201102-0.txt         0.639615                 0.913706\n",
       "603993-20201214-0.txt         0.478207                 0.828386\n",
       "\n",
       "[609 rows x 2 columns]"
      ]
     },
     "execution_count": 33,
     "metadata": {
      "tags": []
     },
     "output_type": "execute_result"
    }
   ],
   "source": [
    "senti_df"
   ]
  },
  {
   "cell_type": "code",
   "execution_count": 34,
   "metadata": {
    "colab": {
     "base_uri": "https://localhost:8080/",
     "height": 305
    },
    "id": "VbCQtIcNQ-tN",
    "outputId": "1cd05386-cf85-456c-9e30-34217aed12fb"
   },
   "outputs": [
    {
     "data": {
      "text/plain": [
       "Text(0, 0.5, 'Sentiment Score from Chinese Finetuned BERT')"
      ]
     },
     "execution_count": 34,
     "metadata": {
      "tags": []
     },
     "output_type": "execute_result"
    },
    {
     "data": {
      "image/png": "[encoded data removed]",
      "text/plain": [
       "<Figure size 432x288 with 1 Axes>"
      ]
     },
     "metadata": {
      "needs_background": "light",
      "tags": []
     },
     "output_type": "display_data"
    }
   ],
   "source": [
    "plt.scatter(senti_df[\"sentiment_score_finbert\"], senti_df[\"sentiment_score\"])\n",
    "plt.xlabel(\"Sentiment Score from English Finbert\")\n",
    "plt.ylabel(\"Sentiment Score from Chinese Finetuned BERT\")"
   ]
  },
  {
   "cell_type": "code",
   "execution_count": 35,
   "metadata": {
    "colab": {
     "base_uri": "https://localhost:8080/"
    },
    "id": "ops4Ft6RRNsz",
    "outputId": "02791499-fe5b-422c-fbfe-3b7238725741"
   },
   "outputs": [
    {
     "data": {
      "text/plain": [
       "array([[1.        , 0.36978563],\n",
       "       [0.36978563, 1.        ]])"
      ]
     },
     "execution_count": 35,
     "metadata": {
      "tags": []
     },
     "output_type": "execute_result"
    }
   ],
   "source": [
    "import numpy.ma as ma\n",
    "a = ma.masked_invalid(senti_df[\"sentiment_score_finbert\"].values)\n",
    "b = ma.masked_invalid(senti_df[\"sentiment_score\"].values)\n",
    "\n",
    "msk = (~a.mask & ~b.mask)\n",
    "np.corrcoef(senti_df[\"sentiment_score_finbert\"].values[msk], senti_df[\"sentiment_score\"].values[msk])"
   ]
  },
  {
   "cell_type": "code",
   "execution_count": 36,
   "metadata": {
    "colab": {
     "base_uri": "https://localhost:8080/",
     "height": 78
    },
    "id": "jG6GQcILReti",
    "outputId": "08440d0f-c07d-4448-c276-82d33de21d1b"
   },
   "outputs": [
    {
     "data": {
      "text/html": [
       "<div>\n",
       "<style scoped>\n",
       "    .dataframe tbody tr th:only-of-type {\n",
       "        vertical-align: middle;\n",
       "    }\n",
       "\n",
       "    .dataframe tbody tr th {\n",
       "        vertical-align: top;\n",
       "    }\n",
       "\n",
       "    .dataframe thead th {\n",
       "        text-align: right;\n",
       "    }\n",
       "</style>\n",
       "<table border=\"1\" class=\"dataframe\">\n",
       "  <thead>\n",
       "    <tr style=\"text-align: right;\">\n",
       "      <th></th>\n",
       "      <th>trainable_parameters</th>\n",
       "      <th>loss</th>\n",
       "      <th>accuracy</th>\n",
       "      <th>learning_rate</th>\n",
       "      <th>epochs</th>\n",
       "      <th>name</th>\n",
       "      <th>model_size</th>\n",
       "    </tr>\n",
       "  </thead>\n",
       "  <tbody>\n",
       "    <tr>\n",
       "      <th>0</th>\n",
       "      <td>102,269,955</td>\n",
       "      <td>1.42</td>\n",
       "      <td>80.29%</td>\n",
       "      <td>0.00002</td>\n",
       "      <td>30</td>\n",
       "      <td>tf_bert_for_sequence_classification</td>\n",
       "      <td>409 MB</td>\n",
       "    </tr>\n",
       "  </tbody>\n",
       "</table>\n",
       "</div>"
      ],
      "text/plain": [
       "  trainable_parameters  loss  ...                                 name  model_size\n",
       "0          102,269,955  1.42  ...  tf_bert_for_sequence_classification      409 MB\n",
       "\n",
       "[1 rows x 7 columns]"
      ]
     },
     "execution_count": 36,
     "metadata": {
      "tags": []
     },
     "output_type": "execute_result"
    }
   ],
   "source": [
    "models_store_path = \"models\"\n",
    "from glob import glob\n",
    "\n",
    "models_metrics_list = glob(models_store_path+\"/*_metrics.json\")\n",
    "\n",
    "all_models_metrics = []\n",
    "for mm_file in models_metrics_list:\n",
    "  with open(mm_file) as json_file:\n",
    "    model_metrics = json.load(json_file)\n",
    "    all_models_metrics.append(model_metrics)\n",
    "\n",
    "# Load metrics to dataframe\n",
    "view_metrics = pd.DataFrame(data=all_models_metrics)\n",
    "\n",
    "# Format columns\n",
    "view_metrics['accuracy'] = view_metrics['accuracy']*100\n",
    "view_metrics['accuracy'] = view_metrics['accuracy'].map('{:,.2f}%'.format)\n",
    "\n",
    "view_metrics['trainable_parameters'] = view_metrics['trainable_parameters'].map('{:,.0f}'.format)\n",
    "view_metrics['execution_time'] = view_metrics['execution_time'].map('{:,.2f} mins'.format)\n",
    "view_metrics['loss'] = view_metrics['loss'].map('{:,.2f}'.format)\n",
    "view_metrics['model_size'] = view_metrics['model_size']/1000000\n",
    "view_metrics['model_size'] = view_metrics['model_size'].map('{:,.0f} MB'.format)\n",
    "\n",
    "# Filter columns\n",
    "view_metrics = view_metrics[[\"trainable_parameters\",\"loss\",\n",
    "                             \"accuracy\",\"learning_rate\",\"epochs\",\"name\", \"model_size\",]]\n",
    "view_metrics = view_metrics.sort_values(by=['accuracy'],ascending=False)\n",
    "view_metrics.head(10)"
   ]
  },
  {
   "cell_type": "code",
   "execution_count": null,
   "metadata": {
    "id": "qwJ1ZWVphqA5"
   },
   "outputs": [],
   "source": []
  }
 ],
 "metadata": {
  "accelerator": "GPU",
  "colab": {
   "machine_shape": "hm",
   "name": "Chinese_BERT_Finetune.ipynb",
   "provenance": []
  },
  "kernelspec": {
   "display_name": "Python 3",
   "language": "python",
   "name": "python3"
  },
  "language_info": {
   "codemirror_mode": {
    "name": "ipython",
    "version": 3
   },
   "file_extension": ".py",
   "mimetype": "text/x-python",
   "name": "python",
   "nbconvert_exporter": "python",
   "pygments_lexer": "ipython3",
   "version": "3.8.2"
  },
  "widgets": {
   "application/vnd.jupyter.widget-state+json": {
    "0734fa864f564cad86cb5a006293ab07": {
     "model_module": "@jupyter-widgets/controls",
     "model_name": "HBoxModel",
     "state": {
      "_dom_classes": [],
      "_model_module": "@jupyter-widgets/controls",
      "_model_module_version": "1.5.0",
      "_model_name": "HBoxModel",
      "_view_count": null,
      "_view_module": "@jupyter-widgets/controls",
      "_view_module_version": "1.5.0",
      "_view_name": "HBoxView",
      "box_style": "",
      "children": [
       "IPY_MODEL_3d99ec6b3dea4a358925c4a7e608e49d",
       "IPY_MODEL_5f606efceaf04892aee3006c2d4dc12b"
      ],
      "layout": "IPY_MODEL_d34bf365bfd841eaa25879acd07bf1a2"
     }
    },
    "124ad2a75a6b428c984ea22b56ee1ec9": {
     "model_module": "@jupyter-widgets/controls",
     "model_name": "HTMLModel",
     "state": {
      "_dom_classes": [],
      "_model_module": "@jupyter-widgets/controls",
      "_model_module_version": "1.5.0",
      "_model_name": "HTMLModel",
      "_view_count": null,
      "_view_module": "@jupyter-widgets/controls",
      "_view_module_version": "1.5.0",
      "_view_name": "HTMLView",
      "description": "",
      "description_tooltip": null,
      "layout": "IPY_MODEL_a339a2c4e9734f60890fe087788dfb94",
      "placeholder": "​",
      "style": "IPY_MODEL_808fb662148c4e14a6b1ea4b774415f0",
      "value": " 624/624 [00:00&lt;00:00, 1.01kB/s]"
     }
    },
    "1f8f3cb884fe4870b3922f8ac14882e3": {
     "model_module": "@jupyter-widgets/controls",
     "model_name": "ProgressStyleModel",
     "state": {
      "_model_module": "@jupyter-widgets/controls",
      "_model_module_version": "1.5.0",
      "_model_name": "ProgressStyleModel",
      "_view_count": null,
      "_view_module": "@jupyter-widgets/base",
      "_view_module_version": "1.2.0",
      "_view_name": "StyleView",
      "bar_color": null,
      "description_width": "initial"
     }
    },
    "24d42bfefe174090a9b58e116743b57e": {
     "model_module": "@jupyter-widgets/controls",
     "model_name": "HBoxModel",
     "state": {
      "_dom_classes": [],
      "_model_module": "@jupyter-widgets/controls",
      "_model_module_version": "1.5.0",
      "_model_name": "HBoxModel",
      "_view_count": null,
      "_view_module": "@jupyter-widgets/controls",
      "_view_module_version": "1.5.0",
      "_view_name": "HBoxView",
      "box_style": "",
      "children": [
       "IPY_MODEL_7cd18b8d12364fff80c1c00654535973",
       "IPY_MODEL_124ad2a75a6b428c984ea22b56ee1ec9"
      ],
      "layout": "IPY_MODEL_3e7081f188ec43cca7ad6c45a3ed49a9"
     }
    },
    "3b51ec844c4c48b2b491239e1153093a": {
     "model_module": "@jupyter-widgets/base",
     "model_name": "LayoutModel",
     "state": {
      "_model_module": "@jupyter-widgets/base",
      "_model_module_version": "1.2.0",
      "_model_name": "LayoutModel",
      "_view_count": null,
      "_view_module": "@jupyter-widgets/base",
      "_view_module_version": "1.2.0",
      "_view_name": "LayoutView",
      "align_content": null,
      "align_items": null,
      "align_self": null,
      "border": null,
      "bottom": null,
      "display": null,
      "flex": null,
      "flex_flow": null,
      "grid_area": null,
      "grid_auto_columns": null,
      "grid_auto_flow": null,
      "grid_auto_rows": null,
      "grid_column": null,
      "grid_gap": null,
      "grid_row": null,
      "grid_template_areas": null,
      "grid_template_columns": null,
      "grid_template_rows": null,
      "height": null,
      "justify_content": null,
      "justify_items": null,
      "left": null,
      "margin": null,
      "max_height": null,
      "max_width": null,
      "min_height": null,
      "min_width": null,
      "object_fit": null,
      "object_position": null,
      "order": null,
      "overflow": null,
      "overflow_x": null,
      "overflow_y": null,
      "padding": null,
      "right": null,
      "top": null,
      "visibility": null,
      "width": null
     }
    },
    "3d99ec6b3dea4a358925c4a7e608e49d": {
     "model_module": "@jupyter-widgets/controls",
     "model_name": "FloatProgressModel",
     "state": {
      "_dom_classes": [],
      "_model_module": "@jupyter-widgets/controls",
      "_model_module_version": "1.5.0",
      "_model_name": "FloatProgressModel",
      "_view_count": null,
      "_view_module": "@jupyter-widgets/controls",
      "_view_module_version": "1.5.0",
      "_view_name": "ProgressView",
      "bar_style": "success",
      "description": "Downloading: 100%",
      "description_tooltip": null,
      "layout": "IPY_MODEL_e87d68d2163b4f3cabb32080b7348d7a",
      "max": 478309336,
      "min": 0,
      "orientation": "horizontal",
      "style": "IPY_MODEL_59c35c3da4004047abc143ad46febfb9",
      "value": 478309336
     }
    },
    "3e7081f188ec43cca7ad6c45a3ed49a9": {
     "model_module": "@jupyter-widgets/base",
     "model_name": "LayoutModel",
     "state": {
      "_model_module": "@jupyter-widgets/base",
      "_model_module_version": "1.2.0",
      "_model_name": "LayoutModel",
      "_view_count": null,
      "_view_module": "@jupyter-widgets/base",
      "_view_module_version": "1.2.0",
      "_view_name": "LayoutView",
      "align_content": null,
      "align_items": null,
      "align_self": null,
      "border": null,
      "bottom": null,
      "display": null,
      "flex": null,
      "flex_flow": null,
      "grid_area": null,
      "grid_auto_columns": null,
      "grid_auto_flow": null,
      "grid_auto_rows": null,
      "grid_column": null,
      "grid_gap": null,
      "grid_row": null,
      "grid_template_areas": null,
      "grid_template_columns": null,
      "grid_template_rows": null,
      "height": null,
      "justify_content": null,
      "justify_items": null,
      "left": null,
      "margin": null,
      "max_height": null,
      "max_width": null,
      "min_height": null,
      "min_width": null,
      "object_fit": null,
      "object_position": null,
      "order": null,
      "overflow": null,
      "overflow_x": null,
      "overflow_y": null,
      "padding": null,
      "right": null,
      "top": null,
      "visibility": null,
      "width": null
     }
    },
    "59c35c3da4004047abc143ad46febfb9": {
     "model_module": "@jupyter-widgets/controls",
     "model_name": "ProgressStyleModel",
     "state": {
      "_model_module": "@jupyter-widgets/controls",
      "_model_module_version": "1.5.0",
      "_model_name": "ProgressStyleModel",
      "_view_count": null,
      "_view_module": "@jupyter-widgets/base",
      "_view_module_version": "1.2.0",
      "_view_name": "StyleView",
      "bar_color": null,
      "description_width": "initial"
     }
    },
    "5f606efceaf04892aee3006c2d4dc12b": {
     "model_module": "@jupyter-widgets/controls",
     "model_name": "HTMLModel",
     "state": {
      "_dom_classes": [],
      "_model_module": "@jupyter-widgets/controls",
      "_model_module_version": "1.5.0",
      "_model_name": "HTMLModel",
      "_view_count": null,
      "_view_module": "@jupyter-widgets/controls",
      "_view_module_version": "1.5.0",
      "_view_name": "HTMLView",
      "description": "",
      "description_tooltip": null,
      "layout": "IPY_MODEL_f778f558772d4885815ba9012484cfcc",
      "placeholder": "​",
      "style": "IPY_MODEL_fff7275d070d45ed8a28ad4a013db18d",
      "value": " 478M/478M [00:16&lt;00:00, 28.2MB/s]"
     }
    },
    "7cd18b8d12364fff80c1c00654535973": {
     "model_module": "@jupyter-widgets/controls",
     "model_name": "FloatProgressModel",
     "state": {
      "_dom_classes": [],
      "_model_module": "@jupyter-widgets/controls",
      "_model_module_version": "1.5.0",
      "_model_name": "FloatProgressModel",
      "_view_count": null,
      "_view_module": "@jupyter-widgets/controls",
      "_view_module_version": "1.5.0",
      "_view_name": "ProgressView",
      "bar_style": "success",
      "description": "Downloading: 100%",
      "description_tooltip": null,
      "layout": "IPY_MODEL_3b51ec844c4c48b2b491239e1153093a",
      "max": 624,
      "min": 0,
      "orientation": "horizontal",
      "style": "IPY_MODEL_1f8f3cb884fe4870b3922f8ac14882e3",
      "value": 624
     }
    },
    "808fb662148c4e14a6b1ea4b774415f0": {
     "model_module": "@jupyter-widgets/controls",
     "model_name": "DescriptionStyleModel",
     "state": {
      "_model_module": "@jupyter-widgets/controls",
      "_model_module_version": "1.5.0",
      "_model_name": "DescriptionStyleModel",
      "_view_count": null,
      "_view_module": "@jupyter-widgets/base",
      "_view_module_version": "1.2.0",
      "_view_name": "StyleView",
      "description_width": ""
     }
    },
    "a339a2c4e9734f60890fe087788dfb94": {
     "model_module": "@jupyter-widgets/base",
     "model_name": "LayoutModel",
     "state": {
      "_model_module": "@jupyter-widgets/base",
      "_model_module_version": "1.2.0",
      "_model_name": "LayoutModel",
      "_view_count": null,
      "_view_module": "@jupyter-widgets/base",
      "_view_module_version": "1.2.0",
      "_view_name": "LayoutView",
      "align_content": null,
      "align_items": null,
      "align_self": null,
      "border": null,
      "bottom": null,
      "display": null,
      "flex": null,
      "flex_flow": null,
      "grid_area": null,
      "grid_auto_columns": null,
      "grid_auto_flow": null,
      "grid_auto_rows": null,
      "grid_column": null,
      "grid_gap": null,
      "grid_row": null,
      "grid_template_areas": null,
      "grid_template_columns": null,
      "grid_template_rows": null,
      "height": null,
      "justify_content": null,
      "justify_items": null,
      "left": null,
      "margin": null,
      "max_height": null,
      "max_width": null,
      "min_height": null,
      "min_width": null,
      "object_fit": null,
      "object_position": null,
      "order": null,
      "overflow": null,
      "overflow_x": null,
      "overflow_y": null,
      "padding": null,
      "right": null,
      "top": null,
      "visibility": null,
      "width": null
     }
    },
    "d34bf365bfd841eaa25879acd07bf1a2": {
     "model_module": "@jupyter-widgets/base",
     "model_name": "LayoutModel",
     "state": {
      "_model_module": "@jupyter-widgets/base",
      "_model_module_version": "1.2.0",
      "_model_name": "LayoutModel",
      "_view_count": null,
      "_view_module": "@jupyter-widgets/base",
      "_view_module_version": "1.2.0",
      "_view_name": "LayoutView",
      "align_content": null,
      "align_items": null,
      "align_self": null,
      "border": null,
      "bottom": null,
      "display": null,
      "flex": null,
      "flex_flow": null,
      "grid_area": null,
      "grid_auto_columns": null,
      "grid_auto_flow": null,
      "grid_auto_rows": null,
      "grid_column": null,
      "grid_gap": null,
      "grid_row": null,
      "grid_template_areas": null,
      "grid_template_columns": null,
      "grid_template_rows": null,
      "height": null,
      "justify_content": null,
      "justify_items": null,
      "left": null,
      "margin": null,
      "max_height": null,
      "max_width": null,
      "min_height": null,
      "min_width": null,
      "object_fit": null,
      "object_position": null,
      "order": null,
      "overflow": null,
      "overflow_x": null,
      "overflow_y": null,
      "padding": null,
      "right": null,
      "top": null,
      "visibility": null,
      "width": null
     }
    },
    "e87d68d2163b4f3cabb32080b7348d7a": {
     "model_module": "@jupyter-widgets/base",
     "model_name": "LayoutModel",
     "state": {
      "_model_module": "@jupyter-widgets/base",
      "_model_module_version": "1.2.0",
      "_model_name": "LayoutModel",
      "_view_count": null,
      "_view_module": "@jupyter-widgets/base",
      "_view_module_version": "1.2.0",
      "_view_name": "LayoutView",
      "align_content": null,
      "align_items": null,
      "align_self": null,
      "border": null,
      "bottom": null,
      "display": null,
      "flex": null,
      "flex_flow": null,
      "grid_area": null,
      "grid_auto_columns": null,
      "grid_auto_flow": null,
      "grid_auto_rows": null,
      "grid_column": null,
      "grid_gap": null,
      "grid_row": null,
      "grid_template_areas": null,
      "grid_template_columns": null,
      "grid_template_rows": null,
      "height": null,
      "justify_content": null,
      "justify_items": null,
      "left": null,
      "margin": null,
      "max_height": null,
      "max_width": null,
      "min_height": null,
      "min_width": null,
      "object_fit": null,
      "object_position": null,
      "order": null,
      "overflow": null,
      "overflow_x": null,
      "overflow_y": null,
      "padding": null,
      "right": null,
      "top": null,
      "visibility": null,
      "width": null
     }
    },
    "f778f558772d4885815ba9012484cfcc": {
     "model_module": "@jupyter-widgets/base",
     "model_name": "LayoutModel",
     "state": {
      "_model_module": "@jupyter-widgets/base",
      "_model_module_version": "1.2.0",
      "_model_name": "LayoutModel",
      "_view_count": null,
      "_view_module": "@jupyter-widgets/base",
      "_view_module_version": "1.2.0",
      "_view_name": "LayoutView",
      "align_content": null,
      "align_items": null,
      "align_self": null,
      "border": null,
      "bottom": null,
      "display": null,
      "flex": null,
      "flex_flow": null,
      "grid_area": null,
      "grid_auto_columns": null,
      "grid_auto_flow": null,
      "grid_auto_rows": null,
      "grid_column": null,
      "grid_gap": null,
      "grid_row": null,
      "grid_template_areas": null,
      "grid_template_columns": null,
      "grid_template_rows": null,
      "height": null,
      "justify_content": null,
      "justify_items": null,
      "left": null,
      "margin": null,
      "max_height": null,
      "max_width": null,
      "min_height": null,
      "min_width": null,
      "object_fit": null,
      "object_position": null,
      "order": null,
      "overflow": null,
      "overflow_x": null,
      "overflow_y": null,
      "padding": null,
      "right": null,
      "top": null,
      "visibility": null,
      "width": null
     }
    },
    "fff7275d070d45ed8a28ad4a013db18d": {
     "model_module": "@jupyter-widgets/controls",
     "model_name": "DescriptionStyleModel",
     "state": {
      "_model_module": "@jupyter-widgets/controls",
      "_model_module_version": "1.5.0",
      "_model_name": "DescriptionStyleModel",
      "_view_count": null,
      "_view_module": "@jupyter-widgets/base",
      "_view_module_version": "1.2.0",
      "_view_name": "StyleView",
      "description_width": ""
     }
    }
   }
  }
 },
 "nbformat": 4,
 "nbformat_minor": 1
}

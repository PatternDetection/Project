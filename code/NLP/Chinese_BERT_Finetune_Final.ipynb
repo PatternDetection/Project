{
  "nbformat": 4,
  "nbformat_minor": 0,
  "metadata": {
    "colab": {
      "name": "Chinese_BERT_Finetune.ipynb",
      "provenance": [],
      "machine_shape": "hm"
    },
    "kernelspec": {
      "name": "python3",
      "display_name": "Python 3"
    },
    "language_info": {
      "name": "python"
    },
    "accelerator": "GPU",
    "widgets": {
      "application/vnd.jupyter.widget-state+json": {
        "3f60845bc97347bcaa49c9d7023b8539": {
          "model_module": "@jupyter-widgets/controls",
          "model_name": "HBoxModel",
          "state": {
            "_view_name": "HBoxView",
            "_dom_classes": [],
            "_model_name": "HBoxModel",
            "_view_module": "@jupyter-widgets/controls",
            "_model_module_version": "1.5.0",
            "_view_count": null,
            "_view_module_version": "1.5.0",
            "box_style": "",
            "layout": "IPY_MODEL_818ad54a4c454f03bf3bf172435f965a",
            "_model_module": "@jupyter-widgets/controls",
            "children": [
              "IPY_MODEL_c4da88041b0b4bf99e00555c18e5810b",
              "IPY_MODEL_03f0ef917f3a4036b9fc3ca07ebd1093"
            ]
          }
        },
        "818ad54a4c454f03bf3bf172435f965a": {
          "model_module": "@jupyter-widgets/base",
          "model_name": "LayoutModel",
          "state": {
            "_view_name": "LayoutView",
            "grid_template_rows": null,
            "right": null,
            "justify_content": null,
            "_view_module": "@jupyter-widgets/base",
            "overflow": null,
            "_model_module_version": "1.2.0",
            "_view_count": null,
            "flex_flow": null,
            "width": null,
            "min_width": null,
            "border": null,
            "align_items": null,
            "bottom": null,
            "_model_module": "@jupyter-widgets/base",
            "top": null,
            "grid_column": null,
            "overflow_y": null,
            "overflow_x": null,
            "grid_auto_flow": null,
            "grid_area": null,
            "grid_template_columns": null,
            "flex": null,
            "_model_name": "LayoutModel",
            "justify_items": null,
            "grid_row": null,
            "max_height": null,
            "align_content": null,
            "visibility": null,
            "align_self": null,
            "height": null,
            "min_height": null,
            "padding": null,
            "grid_auto_rows": null,
            "grid_gap": null,
            "max_width": null,
            "order": null,
            "_view_module_version": "1.2.0",
            "grid_template_areas": null,
            "object_position": null,
            "object_fit": null,
            "grid_auto_columns": null,
            "margin": null,
            "display": null,
            "left": null
          }
        },
        "c4da88041b0b4bf99e00555c18e5810b": {
          "model_module": "@jupyter-widgets/controls",
          "model_name": "FloatProgressModel",
          "state": {
            "_view_name": "ProgressView",
            "style": "IPY_MODEL_e7d9f2bb4a2147e0bb00892f0640e93a",
            "_dom_classes": [],
            "description": "Downloading: 100%",
            "_model_name": "FloatProgressModel",
            "bar_style": "success",
            "max": 624,
            "_view_module": "@jupyter-widgets/controls",
            "_model_module_version": "1.5.0",
            "value": 624,
            "_view_count": null,
            "_view_module_version": "1.5.0",
            "orientation": "horizontal",
            "min": 0,
            "description_tooltip": null,
            "_model_module": "@jupyter-widgets/controls",
            "layout": "IPY_MODEL_e0f03764b0a64788b8542e93818506d9"
          }
        },
        "03f0ef917f3a4036b9fc3ca07ebd1093": {
          "model_module": "@jupyter-widgets/controls",
          "model_name": "HTMLModel",
          "state": {
            "_view_name": "HTMLView",
            "style": "IPY_MODEL_d7a049e22ac340d6b5fd3827b810c64d",
            "_dom_classes": [],
            "description": "",
            "_model_name": "HTMLModel",
            "placeholder": "​",
            "_view_module": "@jupyter-widgets/controls",
            "_model_module_version": "1.5.0",
            "value": " 624/624 [00:00&lt;00:00, 4.66kB/s]",
            "_view_count": null,
            "_view_module_version": "1.5.0",
            "description_tooltip": null,
            "_model_module": "@jupyter-widgets/controls",
            "layout": "IPY_MODEL_6980505e2630437f9307b2dd927046df"
          }
        },
        "e7d9f2bb4a2147e0bb00892f0640e93a": {
          "model_module": "@jupyter-widgets/controls",
          "model_name": "ProgressStyleModel",
          "state": {
            "_view_name": "StyleView",
            "_model_name": "ProgressStyleModel",
            "description_width": "initial",
            "_view_module": "@jupyter-widgets/base",
            "_model_module_version": "1.5.0",
            "_view_count": null,
            "_view_module_version": "1.2.0",
            "bar_color": null,
            "_model_module": "@jupyter-widgets/controls"
          }
        },
        "e0f03764b0a64788b8542e93818506d9": {
          "model_module": "@jupyter-widgets/base",
          "model_name": "LayoutModel",
          "state": {
            "_view_name": "LayoutView",
            "grid_template_rows": null,
            "right": null,
            "justify_content": null,
            "_view_module": "@jupyter-widgets/base",
            "overflow": null,
            "_model_module_version": "1.2.0",
            "_view_count": null,
            "flex_flow": null,
            "width": null,
            "min_width": null,
            "border": null,
            "align_items": null,
            "bottom": null,
            "_model_module": "@jupyter-widgets/base",
            "top": null,
            "grid_column": null,
            "overflow_y": null,
            "overflow_x": null,
            "grid_auto_flow": null,
            "grid_area": null,
            "grid_template_columns": null,
            "flex": null,
            "_model_name": "LayoutModel",
            "justify_items": null,
            "grid_row": null,
            "max_height": null,
            "align_content": null,
            "visibility": null,
            "align_self": null,
            "height": null,
            "min_height": null,
            "padding": null,
            "grid_auto_rows": null,
            "grid_gap": null,
            "max_width": null,
            "order": null,
            "_view_module_version": "1.2.0",
            "grid_template_areas": null,
            "object_position": null,
            "object_fit": null,
            "grid_auto_columns": null,
            "margin": null,
            "display": null,
            "left": null
          }
        },
        "d7a049e22ac340d6b5fd3827b810c64d": {
          "model_module": "@jupyter-widgets/controls",
          "model_name": "DescriptionStyleModel",
          "state": {
            "_view_name": "StyleView",
            "_model_name": "DescriptionStyleModel",
            "description_width": "",
            "_view_module": "@jupyter-widgets/base",
            "_model_module_version": "1.5.0",
            "_view_count": null,
            "_view_module_version": "1.2.0",
            "_model_module": "@jupyter-widgets/controls"
          }
        },
        "6980505e2630437f9307b2dd927046df": {
          "model_module": "@jupyter-widgets/base",
          "model_name": "LayoutModel",
          "state": {
            "_view_name": "LayoutView",
            "grid_template_rows": null,
            "right": null,
            "justify_content": null,
            "_view_module": "@jupyter-widgets/base",
            "overflow": null,
            "_model_module_version": "1.2.0",
            "_view_count": null,
            "flex_flow": null,
            "width": null,
            "min_width": null,
            "border": null,
            "align_items": null,
            "bottom": null,
            "_model_module": "@jupyter-widgets/base",
            "top": null,
            "grid_column": null,
            "overflow_y": null,
            "overflow_x": null,
            "grid_auto_flow": null,
            "grid_area": null,
            "grid_template_columns": null,
            "flex": null,
            "_model_name": "LayoutModel",
            "justify_items": null,
            "grid_row": null,
            "max_height": null,
            "align_content": null,
            "visibility": null,
            "align_self": null,
            "height": null,
            "min_height": null,
            "padding": null,
            "grid_auto_rows": null,
            "grid_gap": null,
            "max_width": null,
            "order": null,
            "_view_module_version": "1.2.0",
            "grid_template_areas": null,
            "object_position": null,
            "object_fit": null,
            "grid_auto_columns": null,
            "margin": null,
            "display": null,
            "left": null
          }
        },
        "e0543056607545a98aea369f9aab0454": {
          "model_module": "@jupyter-widgets/controls",
          "model_name": "HBoxModel",
          "state": {
            "_view_name": "HBoxView",
            "_dom_classes": [],
            "_model_name": "HBoxModel",
            "_view_module": "@jupyter-widgets/controls",
            "_model_module_version": "1.5.0",
            "_view_count": null,
            "_view_module_version": "1.5.0",
            "box_style": "",
            "layout": "IPY_MODEL_04a919915af34257b553dab794dd0b41",
            "_model_module": "@jupyter-widgets/controls",
            "children": [
              "IPY_MODEL_f534f51e118140f480c3f2550705db7b",
              "IPY_MODEL_2986c96fe01a4dd5bf82654c87bd1661"
            ]
          }
        },
        "04a919915af34257b553dab794dd0b41": {
          "model_module": "@jupyter-widgets/base",
          "model_name": "LayoutModel",
          "state": {
            "_view_name": "LayoutView",
            "grid_template_rows": null,
            "right": null,
            "justify_content": null,
            "_view_module": "@jupyter-widgets/base",
            "overflow": null,
            "_model_module_version": "1.2.0",
            "_view_count": null,
            "flex_flow": null,
            "width": null,
            "min_width": null,
            "border": null,
            "align_items": null,
            "bottom": null,
            "_model_module": "@jupyter-widgets/base",
            "top": null,
            "grid_column": null,
            "overflow_y": null,
            "overflow_x": null,
            "grid_auto_flow": null,
            "grid_area": null,
            "grid_template_columns": null,
            "flex": null,
            "_model_name": "LayoutModel",
            "justify_items": null,
            "grid_row": null,
            "max_height": null,
            "align_content": null,
            "visibility": null,
            "align_self": null,
            "height": null,
            "min_height": null,
            "padding": null,
            "grid_auto_rows": null,
            "grid_gap": null,
            "max_width": null,
            "order": null,
            "_view_module_version": "1.2.0",
            "grid_template_areas": null,
            "object_position": null,
            "object_fit": null,
            "grid_auto_columns": null,
            "margin": null,
            "display": null,
            "left": null
          }
        },
        "f534f51e118140f480c3f2550705db7b": {
          "model_module": "@jupyter-widgets/controls",
          "model_name": "FloatProgressModel",
          "state": {
            "_view_name": "ProgressView",
            "style": "IPY_MODEL_7a73b82f9e984a05a5826d09cf7164e4",
            "_dom_classes": [],
            "description": "Downloading: 100%",
            "_model_name": "FloatProgressModel",
            "bar_style": "success",
            "max": 478309336,
            "_view_module": "@jupyter-widgets/controls",
            "_model_module_version": "1.5.0",
            "value": 478309336,
            "_view_count": null,
            "_view_module_version": "1.5.0",
            "orientation": "horizontal",
            "min": 0,
            "description_tooltip": null,
            "_model_module": "@jupyter-widgets/controls",
            "layout": "IPY_MODEL_5888cd68960f4d43a2ff2140ae6180cc"
          }
        },
        "2986c96fe01a4dd5bf82654c87bd1661": {
          "model_module": "@jupyter-widgets/controls",
          "model_name": "HTMLModel",
          "state": {
            "_view_name": "HTMLView",
            "style": "IPY_MODEL_f89251c70b9b410785ea286ce9a69abf",
            "_dom_classes": [],
            "description": "",
            "_model_name": "HTMLModel",
            "placeholder": "​",
            "_view_module": "@jupyter-widgets/controls",
            "_model_module_version": "1.5.0",
            "value": " 478M/478M [00:08&lt;00:00, 59.5MB/s]",
            "_view_count": null,
            "_view_module_version": "1.5.0",
            "description_tooltip": null,
            "_model_module": "@jupyter-widgets/controls",
            "layout": "IPY_MODEL_9ef14f05d8344244b685bf32a18d291b"
          }
        },
        "7a73b82f9e984a05a5826d09cf7164e4": {
          "model_module": "@jupyter-widgets/controls",
          "model_name": "ProgressStyleModel",
          "state": {
            "_view_name": "StyleView",
            "_model_name": "ProgressStyleModel",
            "description_width": "initial",
            "_view_module": "@jupyter-widgets/base",
            "_model_module_version": "1.5.0",
            "_view_count": null,
            "_view_module_version": "1.2.0",
            "bar_color": null,
            "_model_module": "@jupyter-widgets/controls"
          }
        },
        "5888cd68960f4d43a2ff2140ae6180cc": {
          "model_module": "@jupyter-widgets/base",
          "model_name": "LayoutModel",
          "state": {
            "_view_name": "LayoutView",
            "grid_template_rows": null,
            "right": null,
            "justify_content": null,
            "_view_module": "@jupyter-widgets/base",
            "overflow": null,
            "_model_module_version": "1.2.0",
            "_view_count": null,
            "flex_flow": null,
            "width": null,
            "min_width": null,
            "border": null,
            "align_items": null,
            "bottom": null,
            "_model_module": "@jupyter-widgets/base",
            "top": null,
            "grid_column": null,
            "overflow_y": null,
            "overflow_x": null,
            "grid_auto_flow": null,
            "grid_area": null,
            "grid_template_columns": null,
            "flex": null,
            "_model_name": "LayoutModel",
            "justify_items": null,
            "grid_row": null,
            "max_height": null,
            "align_content": null,
            "visibility": null,
            "align_self": null,
            "height": null,
            "min_height": null,
            "padding": null,
            "grid_auto_rows": null,
            "grid_gap": null,
            "max_width": null,
            "order": null,
            "_view_module_version": "1.2.0",
            "grid_template_areas": null,
            "object_position": null,
            "object_fit": null,
            "grid_auto_columns": null,
            "margin": null,
            "display": null,
            "left": null
          }
        },
        "f89251c70b9b410785ea286ce9a69abf": {
          "model_module": "@jupyter-widgets/controls",
          "model_name": "DescriptionStyleModel",
          "state": {
            "_view_name": "StyleView",
            "_model_name": "DescriptionStyleModel",
            "description_width": "",
            "_view_module": "@jupyter-widgets/base",
            "_model_module_version": "1.5.0",
            "_view_count": null,
            "_view_module_version": "1.2.0",
            "_model_module": "@jupyter-widgets/controls"
          }
        },
        "9ef14f05d8344244b685bf32a18d291b": {
          "model_module": "@jupyter-widgets/base",
          "model_name": "LayoutModel",
          "state": {
            "_view_name": "LayoutView",
            "grid_template_rows": null,
            "right": null,
            "justify_content": null,
            "_view_module": "@jupyter-widgets/base",
            "overflow": null,
            "_model_module_version": "1.2.0",
            "_view_count": null,
            "flex_flow": null,
            "width": null,
            "min_width": null,
            "border": null,
            "align_items": null,
            "bottom": null,
            "_model_module": "@jupyter-widgets/base",
            "top": null,
            "grid_column": null,
            "overflow_y": null,
            "overflow_x": null,
            "grid_auto_flow": null,
            "grid_area": null,
            "grid_template_columns": null,
            "flex": null,
            "_model_name": "LayoutModel",
            "justify_items": null,
            "grid_row": null,
            "max_height": null,
            "align_content": null,
            "visibility": null,
            "align_self": null,
            "height": null,
            "min_height": null,
            "padding": null,
            "grid_auto_rows": null,
            "grid_gap": null,
            "max_width": null,
            "order": null,
            "_view_module_version": "1.2.0",
            "grid_template_areas": null,
            "object_position": null,
            "object_fit": null,
            "grid_auto_columns": null,
            "margin": null,
            "display": null,
            "left": null
          }
        }
      }
    }
  },
  "cells": [
    {
      "cell_type": "code",
      "metadata": {
        "colab": {
          "base_uri": "https://localhost:8080/"
        },
        "id": "pEXIqpb9UzvA",
        "outputId": "8b23d846-f2f0-48b0-bd02-da3ce4a414d7"
      },
      "source": [
        "!pip install bert-for-tf2"
      ],
      "execution_count": 1,
      "outputs": [
        {
          "output_type": "stream",
          "text": [
            "Collecting bert-for-tf2\n",
            "\u001b[?25l  Downloading https://files.pythonhosted.org/packages/a5/a1/acb891630749c56901e770a34d6bac8a509a367dd74a05daf7306952e910/bert-for-tf2-0.14.9.tar.gz (41kB)\n",
            "\r\u001b[K     |████████                        | 10kB 20.5MB/s eta 0:00:01\r\u001b[K     |████████████████                | 20kB 26.6MB/s eta 0:00:01\r\u001b[K     |███████████████████████▉        | 30kB 28.4MB/s eta 0:00:01\r\u001b[K     |███████████████████████████████▉| 40kB 21.6MB/s eta 0:00:01\r\u001b[K     |████████████████████████████████| 51kB 5.8MB/s \n",
            "\u001b[?25hCollecting py-params>=0.9.6\n",
            "  Downloading https://files.pythonhosted.org/packages/aa/e0/4f663d8abf83c8084b75b995bd2ab3a9512ebc5b97206fde38cef906ab07/py-params-0.10.2.tar.gz\n",
            "Collecting params-flow>=0.8.0\n",
            "  Downloading https://files.pythonhosted.org/packages/a9/95/ff49f5ebd501f142a6f0aaf42bcfd1c192dc54909d1d9eb84ab031d46056/params-flow-0.8.2.tar.gz\n",
            "Requirement already satisfied: numpy in /usr/local/lib/python3.7/dist-packages (from params-flow>=0.8.0->bert-for-tf2) (1.19.5)\n",
            "Requirement already satisfied: tqdm in /usr/local/lib/python3.7/dist-packages (from params-flow>=0.8.0->bert-for-tf2) (4.41.1)\n",
            "Building wheels for collected packages: bert-for-tf2, py-params, params-flow\n",
            "  Building wheel for bert-for-tf2 (setup.py) ... \u001b[?25l\u001b[?25hdone\n",
            "  Created wheel for bert-for-tf2: filename=bert_for_tf2-0.14.9-cp37-none-any.whl size=30535 sha256=32ab16dbdb43353d95934a464fafba820b8017a4af78305fe4a553328b7f1094\n",
            "  Stored in directory: /root/.cache/pip/wheels/a1/04/ee/347bd9f5b821b637c76411d280271a857aece00358896a230f\n",
            "  Building wheel for py-params (setup.py) ... \u001b[?25l\u001b[?25hdone\n",
            "  Created wheel for py-params: filename=py_params-0.10.2-cp37-none-any.whl size=7912 sha256=018fa8e5b5deda7116b09e491d1be711d14b7b7cd5349ebdc0c0bba29b23f3a1\n",
            "  Stored in directory: /root/.cache/pip/wheels/d0/4a/70/ff12450229ff1955abf01f365051d4faae1c20aef53ab4cf09\n",
            "  Building wheel for params-flow (setup.py) ... \u001b[?25l\u001b[?25hdone\n",
            "  Created wheel for params-flow: filename=params_flow-0.8.2-cp37-none-any.whl size=19472 sha256=d26ff0d7f249df5bd6ff20421cdf0ad5c6302fc8df31c3fdc2f5ee35796d908a\n",
            "  Stored in directory: /root/.cache/pip/wheels/08/c8/7f/81c86b9ff2b86e2c477e3914175be03e679e596067dc630c06\n",
            "Successfully built bert-for-tf2 py-params params-flow\n",
            "Installing collected packages: py-params, params-flow, bert-for-tf2\n",
            "Successfully installed bert-for-tf2-0.14.9 params-flow-0.8.2 py-params-0.10.2\n"
          ],
          "name": "stdout"
        }
      ]
    },
    {
      "cell_type": "code",
      "metadata": {
        "colab": {
          "base_uri": "https://localhost:8080/"
        },
        "id": "i1Fkvm0BX2hi",
        "outputId": "a398c8d8-6cd3-4d67-8d09-c1b605aa8aba"
      },
      "source": [
        "import os\n",
        "import bert\n",
        "\n",
        "from tensorflow import keras\n",
        "\n",
        "model_name = \"chinese_L-12_H-768_A-12\"\n",
        "model_dir = bert.fetch_google_bert_model(model_name, \".models\")\n",
        "model_ckpt = os.path.join(model_dir, \"bert_model.ckpt\")\n",
        "\n",
        "bert_params = bert.params_from_pretrained_ckpt(model_dir)\n",
        "l_bert = bert.BertModelLayer.from_params(bert_params, name=\"bert\")"
      ],
      "execution_count": 2,
      "outputs": [
        {
          "output_type": "stream",
          "text": [
            "chinese_L-12_H-768_A-12.zip: 382MB [00:05, 64.8MB/s]                           \n"
          ],
          "name": "stderr"
        },
        {
          "output_type": "stream",
          "text": [
            "extracting to: .models/chinese_L-12_H-768_A-12\n"
          ],
          "name": "stdout"
        }
      ]
    },
    {
      "cell_type": "code",
      "metadata": {
        "colab": {
          "base_uri": "https://localhost:8080/"
        },
        "id": "l14BnMkXgWhs",
        "outputId": "81d8a8c4-0389-47ce-b2ab-a5d259870c0a"
      },
      "source": [
        "!pip3 install transformers==4.4.1"
      ],
      "execution_count": 3,
      "outputs": [
        {
          "output_type": "stream",
          "text": [
            "Collecting transformers==4.4.1\n",
            "\u001b[?25l  Downloading https://files.pythonhosted.org/packages/2c/d8/5144b0712f7f82229a8da5983a8fbb8d30cec5fbd5f8d12ffe1854dcea67/transformers-4.4.1-py3-none-any.whl (2.1MB)\n",
            "\u001b[K     |████████████████████████████████| 2.1MB 12.6MB/s \n",
            "\u001b[?25hRequirement already satisfied: numpy>=1.17 in /usr/local/lib/python3.7/dist-packages (from transformers==4.4.1) (1.19.5)\n",
            "Collecting tokenizers<0.11,>=0.10.1\n",
            "\u001b[?25l  Downloading https://files.pythonhosted.org/packages/ae/04/5b870f26a858552025a62f1649c20d29d2672c02ff3c3fb4c688ca46467a/tokenizers-0.10.2-cp37-cp37m-manylinux2010_x86_64.whl (3.3MB)\n",
            "\u001b[K     |████████████████████████████████| 3.3MB 50.4MB/s \n",
            "\u001b[?25hRequirement already satisfied: tqdm>=4.27 in /usr/local/lib/python3.7/dist-packages (from transformers==4.4.1) (4.41.1)\n",
            "Requirement already satisfied: filelock in /usr/local/lib/python3.7/dist-packages (from transformers==4.4.1) (3.0.12)\n",
            "Requirement already satisfied: requests in /usr/local/lib/python3.7/dist-packages (from transformers==4.4.1) (2.23.0)\n",
            "Requirement already satisfied: regex!=2019.12.17 in /usr/local/lib/python3.7/dist-packages (from transformers==4.4.1) (2019.12.20)\n",
            "Requirement already satisfied: importlib-metadata; python_version < \"3.8\" in /usr/local/lib/python3.7/dist-packages (from transformers==4.4.1) (3.10.1)\n",
            "Requirement already satisfied: packaging in /usr/local/lib/python3.7/dist-packages (from transformers==4.4.1) (20.9)\n",
            "Collecting sacremoses\n",
            "\u001b[?25l  Downloading https://files.pythonhosted.org/packages/75/ee/67241dc87f266093c533a2d4d3d69438e57d7a90abb216fa076e7d475d4a/sacremoses-0.0.45-py3-none-any.whl (895kB)\n",
            "\u001b[K     |████████████████████████████████| 901kB 63.0MB/s \n",
            "\u001b[?25hRequirement already satisfied: idna<3,>=2.5 in /usr/local/lib/python3.7/dist-packages (from requests->transformers==4.4.1) (2.10)\n",
            "Requirement already satisfied: chardet<4,>=3.0.2 in /usr/local/lib/python3.7/dist-packages (from requests->transformers==4.4.1) (3.0.4)\n",
            "Requirement already satisfied: certifi>=2017.4.17 in /usr/local/lib/python3.7/dist-packages (from requests->transformers==4.4.1) (2020.12.5)\n",
            "Requirement already satisfied: urllib3!=1.25.0,!=1.25.1,<1.26,>=1.21.1 in /usr/local/lib/python3.7/dist-packages (from requests->transformers==4.4.1) (1.24.3)\n",
            "Requirement already satisfied: zipp>=0.5 in /usr/local/lib/python3.7/dist-packages (from importlib-metadata; python_version < \"3.8\"->transformers==4.4.1) (3.4.1)\n",
            "Requirement already satisfied: typing-extensions>=3.6.4; python_version < \"3.8\" in /usr/local/lib/python3.7/dist-packages (from importlib-metadata; python_version < \"3.8\"->transformers==4.4.1) (3.7.4.3)\n",
            "Requirement already satisfied: pyparsing>=2.0.2 in /usr/local/lib/python3.7/dist-packages (from packaging->transformers==4.4.1) (2.4.7)\n",
            "Requirement already satisfied: click in /usr/local/lib/python3.7/dist-packages (from sacremoses->transformers==4.4.1) (7.1.2)\n",
            "Requirement already satisfied: joblib in /usr/local/lib/python3.7/dist-packages (from sacremoses->transformers==4.4.1) (1.0.1)\n",
            "Requirement already satisfied: six in /usr/local/lib/python3.7/dist-packages (from sacremoses->transformers==4.4.1) (1.15.0)\n",
            "Installing collected packages: tokenizers, sacremoses, transformers\n",
            "Successfully installed sacremoses-0.0.45 tokenizers-0.10.2 transformers-4.4.1\n"
          ],
          "name": "stdout"
        }
      ]
    },
    {
      "cell_type": "code",
      "metadata": {
        "id": "-yTUgtZdbiB6"
      },
      "source": [
        "from transformers import BertTokenizer, TFBertForSequenceClassification, BertConfig\n",
        "tokenizer = BertTokenizer.from_pretrained(model_dir, do_lower_case=True)"
      ],
      "execution_count": 4,
      "outputs": []
    },
    {
      "cell_type": "code",
      "metadata": {
        "colab": {
          "base_uri": "https://localhost:8080/"
        },
        "id": "m29R5RAGkW5k",
        "outputId": "1c4eac55-58dd-4344-92f0-221e67a388d0"
      },
      "source": [
        "import pandas as pd\n",
        "data = pd.read_csv(\"data/label_final.csv\", encoding='utf_8_sig')\n",
        "print(data)"
      ],
      "execution_count": 5,
      "outputs": [
        {
          "output_type": "stream",
          "text": [
            "                                                   text  label\n",
            "0     Wind风控日报数据显示，据经济观察网，在2020年，共有4家上市股份行的利润实现负增长，为...     -1\n",
            "1     澳门4月份幸运博彩毛收入84.01亿澳元，同比增长1014.4%；1-4月份幸运博彩毛收入3...      1\n",
            "2                              反垄断风暴袭来！9张罚单落下，腾讯等多家企业被罚     -1\n",
            "3                                     券商五月金股名单出炉，后市怎么走？      0\n",
            "4                             巴菲特2021年股东大会前瞻：疫情下的那些变与不变      0\n",
            "...                                                 ...    ...\n",
            "1435                                        蓝色光标:2个亏损公司     -1\n",
            "1436                                      蓝色光标:明天又要跌停了。     -1\n",
            "1437                                      蓝色光标:明天大跌甚至跌停     -1\n",
            "1438                                             明天继续跌停     -1\n",
            "1439                                             明天跌停开盘     -1\n",
            "\n",
            "[1440 rows x 2 columns]\n"
          ],
          "name": "stdout"
        }
      ]
    },
    {
      "cell_type": "code",
      "metadata": {
        "id": "sSAJbPwggmYU"
      },
      "source": [
        "from sklearn.model_selection import train_test_split\n",
        "validation_percent = 0.20\n",
        "train_x, validate_x, train_y, validate_y = train_test_split(data[\"text\"].values, data[\"label\"].values, test_size=validation_percent)"
      ],
      "execution_count": 6,
      "outputs": []
    },
    {
      "cell_type": "code",
      "metadata": {
        "colab": {
          "base_uri": "https://localhost:8080/"
        },
        "id": "01854vlxuhG7",
        "outputId": "c178cd1f-f12e-4082-bab1-d7fa980f1107"
      },
      "source": [
        "train_y"
      ],
      "execution_count": 7,
      "outputs": [
        {
          "output_type": "execute_result",
          "data": {
            "text/plain": [
              "array([ 1,  1, -1, ...,  0, -1, -1])"
            ]
          },
          "metadata": {
            "tags": []
          },
          "execution_count": 7
        }
      ]
    },
    {
      "cell_type": "code",
      "metadata": {
        "id": "56M_5W26ZX_Y"
      },
      "source": [
        "sequence_length = 256\n",
        "\n",
        "# Train\n",
        "train_x_processed = tokenizer.batch_encode_plus(\n",
        "        train_x,\n",
        "        return_tensors='tf',\n",
        "        add_special_tokens = True, # add [CLS], [SEP]\n",
        "        return_token_type_ids=True,\n",
        "        padding='max_length',\n",
        "        max_length=sequence_length,\n",
        "        return_attention_mask = True,\n",
        "        truncation='longest_first'\n",
        "    )"
      ],
      "execution_count": 8,
      "outputs": []
    },
    {
      "cell_type": "code",
      "metadata": {
        "id": "jutrGypGkNtw",
        "colab": {
          "base_uri": "https://localhost:8080/"
        },
        "outputId": "d3714d2d-19a4-4acc-8abf-ccaaa9959ed0"
      },
      "source": [
        "validate_x_processed = tokenizer.batch_encode_plus(\n",
        "        validate_x,\n",
        "        return_tensors='tf',\n",
        "        add_special_tokens = True, # add [CLS], [SEP]\n",
        "        return_token_type_ids=True,\n",
        "        padding='max_length',\n",
        "        max_length=sequence_length,\n",
        "        return_attention_mask = True,\n",
        "        truncation='longest_first'\n",
        "    )\n",
        "\n",
        "print(train_x_processed.keys())"
      ],
      "execution_count": 9,
      "outputs": [
        {
          "output_type": "stream",
          "text": [
            "dict_keys(['input_ids', 'token_type_ids', 'attention_mask'])\n"
          ],
          "name": "stdout"
        }
      ]
    },
    {
      "cell_type": "code",
      "metadata": {
        "id": "3BnA9Ow6q8O6"
      },
      "source": [
        "import tensorflow as tf"
      ],
      "execution_count": 10,
      "outputs": []
    },
    {
      "cell_type": "code",
      "metadata": {
        "id": "tur1MC0VpEJ2"
      },
      "source": [
        "from tensorflow.keras.utils import to_categorical\n",
        "\n",
        "batch_size = 16\n",
        "num_classes = 3\n",
        "TRAIN_SHUFFLE_BUFFER_SIZE = len(train_x)\n",
        "VALIDATION_SHUFFLE_BUFFER_SIZE = len(validate_x)\n",
        "\n",
        "label2index = {-1: 0, 0: 1, 1: 2}\n",
        "train_processed_y = [label2index[label] for label in train_y]\n",
        "validate_processed_y = [label2index[label] for label in validate_y]\n",
        "\n",
        "# Converts to y to binary class matrix (One-hot-encoded)\n",
        "train_processed_y = to_categorical(train_processed_y, num_classes=num_classes, dtype='int32')\n",
        "validate_processed_y = to_categorical(validate_processed_y, num_classes=num_classes, dtype='int32')\n",
        "\n",
        "train_data = tf.data.Dataset.from_tensor_slices(((train_x_processed[\"input_ids\"],\n",
        "                                                  train_x_processed[\"token_type_ids\"],\n",
        "                                                  train_x_processed[\"attention_mask\"]), train_processed_y))\n",
        "validation_data = tf.data.Dataset.from_tensor_slices(((validate_x_processed[\"input_ids\"],\n",
        "                                                  validate_x_processed[\"token_type_ids\"],\n",
        "                                                  validate_x_processed[\"attention_mask\"]), validate_processed_y))"
      ],
      "execution_count": 11,
      "outputs": []
    },
    {
      "cell_type": "code",
      "metadata": {
        "colab": {
          "base_uri": "https://localhost:8080/"
        },
        "id": "j8b6uaL_q7HU",
        "outputId": "28c0b518-eca1-49ec-9414-5445093d04f1"
      },
      "source": [
        "AUTOTUNE = tf.data.experimental.AUTOTUNE\n",
        "\n",
        "train_data = train_data.shuffle(buffer_size=TRAIN_SHUFFLE_BUFFER_SIZE)\n",
        "train_data = train_data.batch(batch_size)\n",
        "train_data = train_data.prefetch(buffer_size=AUTOTUNE)\n",
        "\n",
        "##################\n",
        "# Validation data\n",
        "##################\n",
        "validation_data = validation_data.shuffle(buffer_size=VALIDATION_SHUFFLE_BUFFER_SIZE)\n",
        "validation_data = validation_data.batch(batch_size)\n",
        "validation_data = validation_data.prefetch(buffer_size=AUTOTUNE)\n",
        "\n",
        "print(\"train_data\",train_data)\n",
        "print(\"validation_data\",validation_data)"
      ],
      "execution_count": 12,
      "outputs": [
        {
          "output_type": "stream",
          "text": [
            "train_data <PrefetchDataset shapes: (((None, 256), (None, 256), (None, 256)), (None, 3)), types: ((tf.int32, tf.int32, tf.int32), tf.int32)>\n",
            "validation_data <PrefetchDataset shapes: (((None, 256), (None, 256), (None, 256)), (None, 3)), types: ((tf.int32, tf.int32, tf.int32), tf.int32)>\n"
          ],
          "name": "stdout"
        }
      ]
    },
    {
      "cell_type": "code",
      "metadata": {
        "colab": {
          "base_uri": "https://localhost:8080/",
          "height": 190,
          "referenced_widgets": [
            "3f60845bc97347bcaa49c9d7023b8539",
            "818ad54a4c454f03bf3bf172435f965a",
            "c4da88041b0b4bf99e00555c18e5810b",
            "03f0ef917f3a4036b9fc3ca07ebd1093",
            "e7d9f2bb4a2147e0bb00892f0640e93a",
            "e0f03764b0a64788b8542e93818506d9",
            "d7a049e22ac340d6b5fd3827b810c64d",
            "6980505e2630437f9307b2dd927046df",
            "e0543056607545a98aea369f9aab0454",
            "04a919915af34257b553dab794dd0b41",
            "f534f51e118140f480c3f2550705db7b",
            "2986c96fe01a4dd5bf82654c87bd1661",
            "7a73b82f9e984a05a5826d09cf7164e4",
            "5888cd68960f4d43a2ff2140ae6180cc",
            "f89251c70b9b410785ea286ce9a69abf",
            "9ef14f05d8344244b685bf32a18d291b"
          ]
        },
        "id": "amFGoT0nsg3J",
        "outputId": "7190de9c-b2be-49eb-b0b1-d588f81ca119"
      },
      "source": [
        "model1 = TFBertForSequenceClassification.from_pretrained('bert-base-chinese', num_labels=3)"
      ],
      "execution_count": 13,
      "outputs": [
        {
          "output_type": "display_data",
          "data": {
            "application/vnd.jupyter.widget-view+json": {
              "model_id": "3f60845bc97347bcaa49c9d7023b8539",
              "version_minor": 0,
              "version_major": 2
            },
            "text/plain": [
              "HBox(children=(FloatProgress(value=0.0, description='Downloading', max=624.0, style=ProgressStyle(description_…"
            ]
          },
          "metadata": {
            "tags": []
          }
        },
        {
          "output_type": "stream",
          "text": [
            "\n"
          ],
          "name": "stdout"
        },
        {
          "output_type": "display_data",
          "data": {
            "application/vnd.jupyter.widget-view+json": {
              "model_id": "e0543056607545a98aea369f9aab0454",
              "version_minor": 0,
              "version_major": 2
            },
            "text/plain": [
              "HBox(children=(FloatProgress(value=0.0, description='Downloading', max=478309336.0, style=ProgressStyle(descri…"
            ]
          },
          "metadata": {
            "tags": []
          }
        },
        {
          "output_type": "stream",
          "text": [
            "\n"
          ],
          "name": "stdout"
        },
        {
          "output_type": "stream",
          "text": [
            "All model checkpoint layers were used when initializing TFBertForSequenceClassification.\n",
            "\n",
            "Some layers of TFBertForSequenceClassification were not initialized from the model checkpoint at bert-base-chinese and are newly initialized: ['classifier']\n",
            "You should probably TRAIN this model on a down-stream task to be able to use it for predictions and inference.\n"
          ],
          "name": "stderr"
        }
      ]
    },
    {
      "cell_type": "code",
      "metadata": {
        "colab": {
          "base_uri": "https://localhost:8080/"
        },
        "id": "7S_COOt-s_Y8",
        "outputId": "1512709e-88cb-47a2-988f-f9e1accee99c"
      },
      "source": [
        "model1.summary()"
      ],
      "execution_count": 14,
      "outputs": [
        {
          "output_type": "stream",
          "text": [
            "Model: \"tf_bert_for_sequence_classification\"\n",
            "_________________________________________________________________\n",
            "Layer (type)                 Output Shape              Param #   \n",
            "=================================================================\n",
            "bert (TFBertMainLayer)       multiple                  102267648 \n",
            "_________________________________________________________________\n",
            "dropout_37 (Dropout)         multiple                  0         \n",
            "_________________________________________________________________\n",
            "classifier (Dense)           multiple                  2307      \n",
            "=================================================================\n",
            "Total params: 102,269,955\n",
            "Trainable params: 102,269,955\n",
            "Non-trainable params: 0\n",
            "_________________________________________________________________\n"
          ],
          "name": "stdout"
        }
      ]
    },
    {
      "cell_type": "code",
      "metadata": {
        "colab": {
          "base_uri": "https://localhost:8080/"
        },
        "id": "qL380zEHrDhz",
        "outputId": "d73ab326-98d2-4c9a-df98-f318e40c4b0c"
      },
      "source": [
        "import time\n",
        "from tensorflow.python.keras import backend as K\n",
        "K.clear_session()\n",
        "\n",
        "learning_rate = 2e-5\n",
        "epochs = 30\n",
        "\n",
        "optimizer = keras.optimizers.Adam(lr=learning_rate, epsilon=1e-08)\n",
        "# Loss\n",
        "loss = keras.losses.CategoricalCrossentropy(from_logits=True)\n",
        "\n",
        "# Compile\n",
        "model1.compile(loss=loss,\n",
        "                  optimizer=optimizer,\n",
        "                  metrics=['accuracy'])\n",
        "\n",
        "# Train model\n",
        "\n",
        "start_time = time.time()\n",
        "training_results = model1.fit(\n",
        "        train_data,\n",
        "        validation_data=validation_data,\n",
        "        epochs=epochs, \n",
        "        verbose=1)\n",
        "execution_time = (time.time() - start_time)/60.0\n",
        "print(\"Training execution time (mins)\",execution_time)"
      ],
      "execution_count": 15,
      "outputs": [
        {
          "output_type": "stream",
          "text": [
            "Epoch 1/30\n",
            "WARNING:tensorflow:The parameters `output_attentions`, `output_hidden_states` and `use_cache` cannot be updated when calling a model.They have to be set to True/False in the config object (i.e.: `config=XConfig.from_pretrained('name', output_attentions=True)`).\n",
            "WARNING:tensorflow:AutoGraph could not transform <bound method Socket.send of <zmq.sugar.socket.Socket object at 0x7fed83e2fd00>> and will run it as-is.\n",
            "Please report this to the TensorFlow team. When filing the bug, set the verbosity to 10 (on Linux, `export AUTOGRAPH_VERBOSITY=10`) and attach the full output.\n",
            "Cause: module, class, method, function, traceback, frame, or code object was expected, got cython_function_or_method\n",
            "To silence this warning, decorate the function with @tf.autograph.experimental.do_not_convert\n",
            "WARNING: AutoGraph could not transform <bound method Socket.send of <zmq.sugar.socket.Socket object at 0x7fed83e2fd00>> and will run it as-is.\n",
            "Please report this to the TensorFlow team. When filing the bug, set the verbosity to 10 (on Linux, `export AUTOGRAPH_VERBOSITY=10`) and attach the full output.\n",
            "Cause: module, class, method, function, traceback, frame, or code object was expected, got cython_function_or_method\n",
            "To silence this warning, decorate the function with @tf.autograph.experimental.do_not_convert\n",
            "WARNING:tensorflow:AutoGraph could not transform <function wrap at 0x7fedaf6dcd40> and will run it as-is.\n",
            "Cause: while/else statement not yet supported\n",
            "To silence this warning, decorate the function with @tf.autograph.experimental.do_not_convert\n",
            "WARNING: AutoGraph could not transform <function wrap at 0x7fedaf6dcd40> and will run it as-is.\n",
            "Cause: while/else statement not yet supported\n",
            "To silence this warning, decorate the function with @tf.autograph.experimental.do_not_convert\n",
            "WARNING:tensorflow:The parameter `return_dict` cannot be set in graph mode and will always be set to `True`.\n",
            "WARNING:tensorflow:The parameters `output_attentions`, `output_hidden_states` and `use_cache` cannot be updated when calling a model.They have to be set to True/False in the config object (i.e.: `config=XConfig.from_pretrained('name', output_attentions=True)`).\n",
            "WARNING:tensorflow:The parameter `return_dict` cannot be set in graph mode and will always be set to `True`.\n",
            "72/72 [==============================] - ETA: 0s - loss: 0.9983 - accuracy: 0.5044WARNING:tensorflow:The parameters `output_attentions`, `output_hidden_states` and `use_cache` cannot be updated when calling a model.They have to be set to True/False in the config object (i.e.: `config=XConfig.from_pretrained('name', output_attentions=True)`).\n",
            "WARNING:tensorflow:The parameter `return_dict` cannot be set in graph mode and will always be set to `True`.\n",
            "72/72 [==============================] - 75s 352ms/step - loss: 0.9966 - accuracy: 0.5059 - val_loss: 0.6301 - val_accuracy: 0.7465\n",
            "Epoch 2/30\n",
            "72/72 [==============================] - 22s 310ms/step - loss: 0.6069 - accuracy: 0.7663 - val_loss: 0.5976 - val_accuracy: 0.7604\n",
            "Epoch 3/30\n",
            "72/72 [==============================] - 22s 310ms/step - loss: 0.3925 - accuracy: 0.8475 - val_loss: 0.5399 - val_accuracy: 0.7743\n",
            "Epoch 4/30\n",
            "72/72 [==============================] - 22s 310ms/step - loss: 0.2717 - accuracy: 0.9091 - val_loss: 0.5671 - val_accuracy: 0.7674\n",
            "Epoch 5/30\n",
            "72/72 [==============================] - 22s 310ms/step - loss: 0.1903 - accuracy: 0.9350 - val_loss: 0.7066 - val_accuracy: 0.7778\n",
            "Epoch 6/30\n",
            "72/72 [==============================] - 22s 310ms/step - loss: 0.1134 - accuracy: 0.9609 - val_loss: 0.8093 - val_accuracy: 0.7604\n",
            "Epoch 7/30\n",
            "72/72 [==============================] - 22s 310ms/step - loss: 0.0969 - accuracy: 0.9586 - val_loss: 0.8491 - val_accuracy: 0.7743\n",
            "Epoch 8/30\n",
            "72/72 [==============================] - 22s 310ms/step - loss: 0.0753 - accuracy: 0.9801 - val_loss: 0.8666 - val_accuracy: 0.7604\n",
            "Epoch 9/30\n",
            "72/72 [==============================] - 22s 311ms/step - loss: 0.0692 - accuracy: 0.9821 - val_loss: 0.8676 - val_accuracy: 0.7917\n",
            "Epoch 10/30\n",
            "72/72 [==============================] - 22s 310ms/step - loss: 0.0344 - accuracy: 0.9926 - val_loss: 0.8694 - val_accuracy: 0.7812\n",
            "Epoch 11/30\n",
            "72/72 [==============================] - 22s 310ms/step - loss: 0.0358 - accuracy: 0.9900 - val_loss: 0.9876 - val_accuracy: 0.7674\n",
            "Epoch 12/30\n",
            "72/72 [==============================] - 22s 310ms/step - loss: 0.0342 - accuracy: 0.9909 - val_loss: 0.9781 - val_accuracy: 0.7778\n",
            "Epoch 13/30\n",
            "72/72 [==============================] - 22s 310ms/step - loss: 0.0300 - accuracy: 0.9921 - val_loss: 1.0284 - val_accuracy: 0.7778\n",
            "Epoch 14/30\n",
            "72/72 [==============================] - 22s 310ms/step - loss: 0.0175 - accuracy: 0.9939 - val_loss: 1.1195 - val_accuracy: 0.7778\n",
            "Epoch 15/30\n",
            "72/72 [==============================] - 22s 311ms/step - loss: 0.0381 - accuracy: 0.9901 - val_loss: 1.0903 - val_accuracy: 0.7847\n",
            "Epoch 16/30\n",
            "72/72 [==============================] - 22s 310ms/step - loss: 0.0340 - accuracy: 0.9856 - val_loss: 1.1100 - val_accuracy: 0.7639\n",
            "Epoch 17/30\n",
            "72/72 [==============================] - 22s 311ms/step - loss: 0.0105 - accuracy: 0.9990 - val_loss: 1.2370 - val_accuracy: 0.7812\n",
            "Epoch 18/30\n",
            "72/72 [==============================] - 22s 310ms/step - loss: 0.0166 - accuracy: 0.9942 - val_loss: 1.2576 - val_accuracy: 0.7708\n",
            "Epoch 19/30\n",
            "72/72 [==============================] - 22s 310ms/step - loss: 0.0215 - accuracy: 0.9957 - val_loss: 1.2159 - val_accuracy: 0.7708\n",
            "Epoch 20/30\n",
            "72/72 [==============================] - 22s 311ms/step - loss: 0.0433 - accuracy: 0.9867 - val_loss: 1.2427 - val_accuracy: 0.7743\n",
            "Epoch 21/30\n",
            "72/72 [==============================] - 22s 310ms/step - loss: 0.0044 - accuracy: 0.9992 - val_loss: 1.3631 - val_accuracy: 0.7222\n",
            "Epoch 22/30\n",
            "72/72 [==============================] - 22s 311ms/step - loss: 0.0160 - accuracy: 0.9932 - val_loss: 1.2330 - val_accuracy: 0.7847\n",
            "Epoch 23/30\n",
            "72/72 [==============================] - 22s 311ms/step - loss: 0.0309 - accuracy: 0.9879 - val_loss: 1.2438 - val_accuracy: 0.7639\n",
            "Epoch 24/30\n",
            "72/72 [==============================] - 22s 311ms/step - loss: 0.0522 - accuracy: 0.9885 - val_loss: 1.1545 - val_accuracy: 0.7743\n",
            "Epoch 25/30\n",
            "72/72 [==============================] - 22s 311ms/step - loss: 0.0033 - accuracy: 0.9990 - val_loss: 1.3624 - val_accuracy: 0.7778\n",
            "Epoch 26/30\n",
            "72/72 [==============================] - 22s 311ms/step - loss: 0.0148 - accuracy: 0.9953 - val_loss: 1.3157 - val_accuracy: 0.7708\n",
            "Epoch 27/30\n",
            "72/72 [==============================] - 22s 311ms/step - loss: 0.0015 - accuracy: 1.0000 - val_loss: 1.3410 - val_accuracy: 0.7708\n",
            "Epoch 28/30\n",
            "72/72 [==============================] - 22s 311ms/step - loss: 8.6478e-04 - accuracy: 1.0000 - val_loss: 1.3711 - val_accuracy: 0.7778\n",
            "Epoch 29/30\n",
            "72/72 [==============================] - 22s 311ms/step - loss: 8.5879e-04 - accuracy: 1.0000 - val_loss: 1.4345 - val_accuracy: 0.7535\n",
            "Epoch 30/30\n",
            "72/72 [==============================] - 22s 311ms/step - loss: 0.0010 - accuracy: 1.0000 - val_loss: 1.4705 - val_accuracy: 0.7535\n",
            "Training execution time (mins) 12.048124957084656\n"
          ],
          "name": "stdout"
        }
      ]
    },
    {
      "cell_type": "markdown",
      "metadata": {
        "id": "4heL0tjw145E"
      },
      "source": [
        "Motivated by FinBERT package, when we train Chinese BERT models, we also get predictions which are represented in three different columns:\n",
        "\n",
        "1) logit: probabilities for each class\n",
        "\n",
        "2) prediction: predicted label\n",
        "\n",
        "3) sentiment_score: sentiment score calculated as: probability of positive - probability of negative"
      ]
    },
    {
      "cell_type": "code",
      "metadata": {
        "id": "Y1UAN2B71zrj"
      },
      "source": [
        "import numpy as np\n",
        "\n",
        "def get_prediction(model, data):\n",
        "    y_pred_bert = model.predict(data)\n",
        "    logits = tf.nn.softmax(y_pred_bert[\"logits\"])\n",
        "    y_preds = np.argmax(y_pred_bert['logits'], axis=1)\n",
        "    y_preds[np.where(y_preds == 0)] = -1\n",
        "    y_preds[np.where(y_preds == 1)] = 0\n",
        "    y_preds[np.where(y_preds == 2)] = 1\n",
        "    senti_score = logits[:, 2] - logits[:, 0]\n",
        "\n",
        "    return logits, y_preds, senti_score"
      ],
      "execution_count": 16,
      "outputs": []
    },
    {
      "cell_type": "code",
      "metadata": {
        "id": "5UWbkCmnGfzp"
      },
      "source": [
        "import matplotlib.pyplot as plt\n",
        "from sklearn.metrics import f1_score, confusion_matrix\n",
        "import json\n",
        "from tensorflow.python.keras.utils.layer_utils import count_params\n",
        "\n",
        "def save_model(model, path=\"models\",model_name=\"model01\"):\n",
        "\n",
        "    # Ensure path exists\n",
        "    if not os.path.exists(path):\n",
        "        os.mkdir(path)\n",
        "\n",
        "    if isinstance(model,TFBertForSequenceClassification):\n",
        "      #model.save_pretrained(path)\n",
        "      model.save_weights(os.path.join(path,model_name+\".h5\"))\n",
        "    else:\n",
        "      # Save the enitire model (structure + weights)\n",
        "      model.save(os.path.join(path,model_name+\".hdf5\"))\n",
        "\n",
        "      # Save only the weights\n",
        "      model.save_weights(os.path.join(path,model_name+\".h5\"))\n",
        "\n",
        "      # Save the structure only\n",
        "      model_json = model.to_json()\n",
        "      with open(os.path.join(path,model_name+\".json\"), \"w\") as json_file:\n",
        "          json_file.write(model_json)\n",
        "\n",
        "def get_model_size(path=\"models\",model_name=\"model01\"):\n",
        "    model_size = os.stat(os.path.join(path,model_name+\".h5\")).st_size\n",
        "    return model_size\n",
        "\n",
        "class JsonEncoder(json.JSONEncoder):\n",
        "    def default(self, obj):\n",
        "      if isinstance(obj, np.integer):\n",
        "          return int(obj)\n",
        "      elif isinstance(obj, np.floating):\n",
        "          return float(obj)\n",
        "      elif isinstance(obj, decimal.Decimal):\n",
        "          return float(obj)\n",
        "      elif isinstance(obj, np.ndarray):\n",
        "          return obj.tolist()\n",
        "      else:\n",
        "          return super(JsonEncoder, self).default(obj)\n",
        "\n",
        "def evaluate_save_model(model,test_data, training_results,execution_time, learning_rate, epochs,save=True):\n",
        "    \n",
        "    # Get the model train history\n",
        "    model_train_history = training_results.history\n",
        "    # Get the number of epochs the training was run for\n",
        "    num_epochs = len(model_train_history[\"loss\"])\n",
        "\n",
        "    # Plot training results\n",
        "    fig = plt.figure(figsize=(20,5))\n",
        "    axs = fig.add_subplot(1,3,1)\n",
        "    axs.set_title('Loss')\n",
        "    # Plot all metrics\n",
        "    for metric in [\"loss\",\"val_loss\"]:\n",
        "        axs.plot(np.arange(0, num_epochs), model_train_history[metric], label=metric)\n",
        "    axs.legend()\n",
        "    \n",
        "    axs = fig.add_subplot(1,3,2)\n",
        "    axs.set_title('Accuracy')\n",
        "    # Plot all metrics\n",
        "    for metric in [\"accuracy\",\"val_accuracy\"]:\n",
        "        axs.plot(np.arange(0, num_epochs), model_train_history[metric], label=metric)\n",
        "    axs.legend()\n",
        "\n",
        "    plt.show()\n",
        "    \n",
        "    # Evaluate on test data\n",
        "    evaluation_results = model.evaluate(test_data)\n",
        "    print(evaluation_results)\n",
        "    \n",
        "    if save:\n",
        "        # Save model\n",
        "        save_model(model, model_name=model.name)\n",
        "        model_size = get_model_size(model_name=model.name)\n",
        "\n",
        "        # Save model history\n",
        "        with open(os.path.join(\"models\",model.name+\"_train_history.json\"), \"w\") as json_file:\n",
        "            json_file.write(json.dumps(model_train_history,cls=JsonEncoder))\n",
        "\n",
        "        trainable_parameters = count_params(model.trainable_weights)\n",
        "        non_trainable_parameters = count_params(model.non_trainable_weights)\n",
        "\n",
        "        # Save model metrics\n",
        "        metrics ={\n",
        "            \"trainable_parameters\":trainable_parameters,\n",
        "            \"execution_time\":execution_time,\n",
        "            \"loss\":evaluation_results[0],\n",
        "            \"accuracy\":evaluation_results[1],\n",
        "            \"model_size\":model_size,\n",
        "            \"learning_rate\":learning_rate,\n",
        "            \"epochs\":epochs,\n",
        "            \"name\": model.name,\n",
        "            \"id\": int(time.time())\n",
        "        }\n",
        "        with open(os.path.join(\"models\",model.name+\"_metrics.json\"), \"w\") as json_file:\n",
        "            json_file.write(json.dumps(metrics,cls=JsonEncoder))"
      ],
      "execution_count": 17,
      "outputs": []
    },
    {
      "cell_type": "code",
      "metadata": {
        "colab": {
          "base_uri": "https://localhost:8080/",
          "height": 373
        },
        "id": "p2Q453ctGqIl",
        "outputId": "aa9f9fc8-3c5a-4dea-e576-bb9b5122eb94"
      },
      "source": [
        "evaluate_save_model(model1, validation_data, training_results, execution_time, learning_rate, epochs)"
      ],
      "execution_count": 18,
      "outputs": [
        {
          "output_type": "display_data",
          "data": {
            "image/png": "[encoded data removed]",
            "text/plain": [
              "<Figure size 1440x360 with 2 Axes>"
            ]
          },
          "metadata": {
            "tags": [],
            "needs_background": "light"
          }
        },
        {
          "output_type": "stream",
          "text": [
            "18/18 [==============================] - 2s 104ms/step - loss: 1.4705 - accuracy: 0.7535\n",
            "[1.4704883098602295, 0.7534722089767456]\n"
          ],
          "name": "stdout"
        }
      ]
    },
    {
      "cell_type": "code",
      "metadata": {
        "colab": {
          "base_uri": "https://localhost:8080/"
        },
        "id": "E2DziRGnL7g9",
        "outputId": "0d303edf-3627-4bb3-f396-111a1eddca35"
      },
      "source": [
        "data_test = pd.read_csv(\"data/sentense_full.csv\", encoding='utf_8_sig')\n",
        "print(data_test)"
      ],
      "execution_count": 19,
      "outputs": [
        {
          "output_type": "stream",
          "text": [
            "                                                   text              file_name\n",
            "0         华西证券股份有限公司研究报告转发给他人pHUAXI SECURITIES CO, LTD,  000671-20201109-0.txt\n",
            "1     公司修正2020年度业绩预告,四季度业结畋超预期■事件:2021年1月29日,公司发布202...  002044-20210131-0.txt\n",
            "2                               ■业绩预期变动主要由投资收益和计提减值准备所致  002044-20210131-0.txt\n",
            "3     公司本次修改2020年业绩预告的主要原因在于投资收益和计提减值准备造成的影响:(1)2020...  002044-20210131-0.txt\n",
            "4     公司主营业务为健康体检服务,2020年上半年受新冠疫情影响冲击较大,下半年随着疫情得到较好控...  002044-20210131-0.txt\n",
            "...                                                 ...                    ...\n",
            "7840              预计19-21年高端白酒消费量CAGR约10%,高端白酒均价CAGR约5%  000858-20191231-0.txt\n",
            "7841                                 发展势能增强,蓄力集团“后干亿”时代  000858-20191231-0.txt\n",
            "7842  19年作为营销改革年,全面导入控盘分利模式,利用数字化赋能推动转型,从高层架构到渠道人员都进...  000858-20191231-0.txt\n",
            "7843  我们认为公司已由过去的“增量改革”开始转变为“存量改革”,持续升级的改革措施将大大强化公司发...  000858-20191231-0.txt\n",
            "7844  我们认为19年公司营销改革成效显著,叠加产品更新升级、管理效率提升效应和数字化赋能转型,预计...  000858-20191231-0.txt\n",
            "\n",
            "[7845 rows x 2 columns]\n"
          ],
          "name": "stdout"
        }
      ]
    },
    {
      "cell_type": "code",
      "metadata": {
        "id": "q-hp8U0DMI30"
      },
      "source": [
        "test_x = data_test[\"text\"].values\n",
        "test_x_processed = tokenizer.batch_encode_plus(\n",
        "        test_x,\n",
        "        return_tensors='tf',\n",
        "        add_special_tokens = True, # add [CLS], [SEP]\n",
        "        return_token_type_ids=True,\n",
        "        padding='max_length',\n",
        "        max_length=sequence_length,\n",
        "        return_attention_mask = True,\n",
        "        truncation='longest_first'\n",
        "    )"
      ],
      "execution_count": 20,
      "outputs": []
    },
    {
      "cell_type": "code",
      "metadata": {
        "id": "2ZgmaRUGMYro"
      },
      "source": [
        "test_data = tf.data.Dataset.from_tensor_slices((test_x_processed[\"input_ids\"],\n",
        "                                                  test_x_processed[\"token_type_ids\"],\n",
        "                                                  test_x_processed[\"attention_mask\"]))\n",
        "test_data = test_data.batch(batch_size)\n",
        "test_data = test_data.prefetch(buffer_size=AUTOTUNE)"
      ],
      "execution_count": 21,
      "outputs": []
    },
    {
      "cell_type": "code",
      "metadata": {
        "colab": {
          "base_uri": "https://localhost:8080/"
        },
        "id": "2u8jVMW7rNUM",
        "outputId": "0a1ca209-5a25-418b-9a43-11439a702c4a"
      },
      "source": [
        "logits_validate, y_preds_validate, senti_validate = get_prediction(model1, test_data)"
      ],
      "execution_count": 22,
      "outputs": [
        {
          "output_type": "stream",
          "text": [
            "WARNING:tensorflow:The parameters `output_attentions`, `output_hidden_states` and `use_cache` cannot be updated when calling a model.They have to be set to True/False in the config object (i.e.: `config=XConfig.from_pretrained('name', output_attentions=True)`).\n",
            "WARNING:tensorflow:The parameter `return_dict` cannot be set in graph mode and will always be set to `True`.\n"
          ],
          "name": "stdout"
        }
      ]
    },
    {
      "cell_type": "code",
      "metadata": {
        "id": "UFbMKrDzNahD"
      },
      "source": [
        "df_results = data_test.copy()\n",
        "df_results[\"logit\"] = list(logits_validate.numpy())\n",
        "df_results[\"prediction\"] = y_preds_validate\n",
        "df_results[\"sentiment_score\"] = senti_validate"
      ],
      "execution_count": 23,
      "outputs": []
    },
    {
      "cell_type": "code",
      "metadata": {
        "colab": {
          "base_uri": "https://localhost:8080/",
          "height": 521
        },
        "id": "kqD9istdNpt_",
        "outputId": "0f8c8f33-93b3-4df4-e02a-22016e68e093"
      },
      "source": [
        "df_results.head(10)"
      ],
      "execution_count": 24,
      "outputs": [
        {
          "output_type": "execute_result",
          "data": {
            "text/html": [
              "<div>\n",
              "<style scoped>\n",
              "    .dataframe tbody tr th:only-of-type {\n",
              "        vertical-align: middle;\n",
              "    }\n",
              "\n",
              "    .dataframe tbody tr th {\n",
              "        vertical-align: top;\n",
              "    }\n",
              "\n",
              "    .dataframe thead th {\n",
              "        text-align: right;\n",
              "    }\n",
              "</style>\n",
              "<table border=\"1\" class=\"dataframe\">\n",
              "  <thead>\n",
              "    <tr style=\"text-align: right;\">\n",
              "      <th></th>\n",
              "      <th>text</th>\n",
              "      <th>file_name</th>\n",
              "      <th>logit</th>\n",
              "      <th>prediction</th>\n",
              "      <th>sentiment_score</th>\n",
              "    </tr>\n",
              "  </thead>\n",
              "  <tbody>\n",
              "    <tr>\n",
              "      <th>0</th>\n",
              "      <td>华西证券股份有限公司研究报告转发给他人pHUAXI SECURITIES CO, LTD,</td>\n",
              "      <td>000671-20201109-0.txt</td>\n",
              "      <td>[0.018670132, 0.980513, 0.00081694016]</td>\n",
              "      <td>0</td>\n",
              "      <td>-0.017853</td>\n",
              "    </tr>\n",
              "    <tr>\n",
              "      <th>1</th>\n",
              "      <td>公司修正2020年度业绩预告,四季度业结畋超预期■事件:2021年1月29日,公司发布202...</td>\n",
              "      <td>002044-20210131-0.txt</td>\n",
              "      <td>[0.00017050514, 0.0001076138, 0.9997218]</td>\n",
              "      <td>1</td>\n",
              "      <td>0.999551</td>\n",
              "    </tr>\n",
              "    <tr>\n",
              "      <th>2</th>\n",
              "      <td>■业绩预期变动主要由投资收益和计提减值准备所致</td>\n",
              "      <td>002044-20210131-0.txt</td>\n",
              "      <td>[0.7461818, 0.24891652, 0.0049016695]</td>\n",
              "      <td>-1</td>\n",
              "      <td>-0.741280</td>\n",
              "    </tr>\n",
              "    <tr>\n",
              "      <th>3</th>\n",
              "      <td>公司本次修改2020年业绩预告的主要原因在于投资收益和计提减值准备造成的影响:(1)2020...</td>\n",
              "      <td>002044-20210131-0.txt</td>\n",
              "      <td>[0.30487514, 0.69187975, 0.0032451397]</td>\n",
              "      <td>0</td>\n",
              "      <td>-0.301630</td>\n",
              "    </tr>\n",
              "    <tr>\n",
              "      <th>4</th>\n",
              "      <td>公司主营业务为健康体检服务,2020年上半年受新冠疫情影响冲击较大,下半年随着疫情得到较好控...</td>\n",
              "      <td>002044-20210131-0.txt</td>\n",
              "      <td>[0.0036218949, 0.014882256, 0.9814958]</td>\n",
              "      <td>1</td>\n",
              "      <td>0.977874</td>\n",
              "    </tr>\n",
              "    <tr>\n",
              "      <th>5</th>\n",
              "      <td>如果剔除投资收益和减值准备带来的业绩影响,预计公司2020年全年仍可实现扭亏为盈</td>\n",
              "      <td>002044-20210131-0.txt</td>\n",
              "      <td>[0.0072019002, 0.9158691, 0.07692905]</td>\n",
              "      <td>0</td>\n",
              "      <td>0.069727</td>\n",
              "    </tr>\n",
              "    <tr>\n",
              "      <th>6</th>\n",
              "      <td>考虑到公司2020年前三季度累计实现营业收入44.19亿元,累计实现归母净亏损5.17亿元,...</td>\n",
              "      <td>002044-20210131-0.txt</td>\n",
              "      <td>[0.48079783, 0.4885826, 0.03061954]</td>\n",
              "      <td>0</td>\n",
              "      <td>-0.450178</td>\n",
              "    </tr>\n",
              "    <tr>\n",
              "      <th>7</th>\n",
              "      <td>“自建+并购”的发展模式帮助公司在短时间内实现全国布局,同时也带来了巨大的管理压力2018年...</td>\n",
              "      <td>002044-20210131-0.txt</td>\n",
              "      <td>[0.15711159, 0.8395158, 0.0033725835]</td>\n",
              "      <td>0</td>\n",
              "      <td>-0.153739</td>\n",
              "    </tr>\n",
              "    <tr>\n",
              "      <th>8</th>\n",
              "      <td>2019年公司牵手阿里以来,管理层发生数次重大变更,阿里系高管的入驻有望协助公司改善内部治理...</td>\n",
              "      <td>002044-20210131-0.txt</td>\n",
              "      <td>[0.00018563478, 0.0021806662, 0.9976337]</td>\n",
              "      <td>1</td>\n",
              "      <td>0.997448</td>\n",
              "    </tr>\n",
              "    <tr>\n",
              "      <th>9</th>\n",
              "      <td>我们认为,公司管理提升的效果已经初步显现,有望走出过去3年的低谷期,2021年或将成为新征程</td>\n",
              "      <td>002044-20210131-0.txt</td>\n",
              "      <td>[0.00011242357, 0.00055967097, 0.9993279]</td>\n",
              "      <td>1</td>\n",
              "      <td>0.999215</td>\n",
              "    </tr>\n",
              "  </tbody>\n",
              "</table>\n",
              "</div>"
            ],
            "text/plain": [
              "                                                text  ... sentiment_score\n",
              "0      华西证券股份有限公司研究报告转发给他人pHUAXI SECURITIES CO, LTD,  ...       -0.017853\n",
              "1  公司修正2020年度业绩预告,四季度业结畋超预期■事件:2021年1月29日,公司发布202...  ...        0.999551\n",
              "2                            ■业绩预期变动主要由投资收益和计提减值准备所致  ...       -0.741280\n",
              "3  公司本次修改2020年业绩预告的主要原因在于投资收益和计提减值准备造成的影响:(1)2020...  ...       -0.301630\n",
              "4  公司主营业务为健康体检服务,2020年上半年受新冠疫情影响冲击较大,下半年随着疫情得到较好控...  ...        0.977874\n",
              "5           如果剔除投资收益和减值准备带来的业绩影响,预计公司2020年全年仍可实现扭亏为盈  ...        0.069727\n",
              "6  考虑到公司2020年前三季度累计实现营业收入44.19亿元,累计实现归母净亏损5.17亿元,...  ...       -0.450178\n",
              "7  “自建+并购”的发展模式帮助公司在短时间内实现全国布局,同时也带来了巨大的管理压力2018年...  ...       -0.153739\n",
              "8  2019年公司牵手阿里以来,管理层发生数次重大变更,阿里系高管的入驻有望协助公司改善内部治理...  ...        0.997448\n",
              "9     我们认为,公司管理提升的效果已经初步显现,有望走出过去3年的低谷期,2021年或将成为新征程  ...        0.999215\n",
              "\n",
              "[10 rows x 5 columns]"
            ]
          },
          "metadata": {
            "tags": []
          },
          "execution_count": 24
        }
      ]
    },
    {
      "cell_type": "code",
      "metadata": {
        "id": "h2bcP0UDOKKk"
      },
      "source": [
        "senti_df = df_results[[\"file_name\", \"sentiment_score\"]].groupby([\"file_name\"]).mean()\n",
        "senti_df = senti_df.reset_index()"
      ],
      "execution_count": 25,
      "outputs": []
    },
    {
      "cell_type": "code",
      "metadata": {
        "colab": {
          "base_uri": "https://localhost:8080/",
          "height": 348
        },
        "id": "3fagwCa9O9gw",
        "outputId": "6b512797-5607-4723-ad38-9bee29187865"
      },
      "source": [
        "senti_df.head(10)"
      ],
      "execution_count": 26,
      "outputs": [
        {
          "output_type": "execute_result",
          "data": {
            "text/html": [
              "<div>\n",
              "<style scoped>\n",
              "    .dataframe tbody tr th:only-of-type {\n",
              "        vertical-align: middle;\n",
              "    }\n",
              "\n",
              "    .dataframe tbody tr th {\n",
              "        vertical-align: top;\n",
              "    }\n",
              "\n",
              "    .dataframe thead th {\n",
              "        text-align: right;\n",
              "    }\n",
              "</style>\n",
              "<table border=\"1\" class=\"dataframe\">\n",
              "  <thead>\n",
              "    <tr style=\"text-align: right;\">\n",
              "      <th></th>\n",
              "      <th>file_name</th>\n",
              "      <th>sentiment_score</th>\n",
              "    </tr>\n",
              "  </thead>\n",
              "  <tbody>\n",
              "    <tr>\n",
              "      <th>0</th>\n",
              "      <td>000001-20111051-0.txt</td>\n",
              "      <td>0.311501</td>\n",
              "    </tr>\n",
              "    <tr>\n",
              "      <th>1</th>\n",
              "      <td>000001-20160309-0.txt</td>\n",
              "      <td>0.973825</td>\n",
              "    </tr>\n",
              "    <tr>\n",
              "      <th>2</th>\n",
              "      <td>000001-20160421-0.txt</td>\n",
              "      <td>0.156352</td>\n",
              "    </tr>\n",
              "    <tr>\n",
              "      <th>3</th>\n",
              "      <td>000001-20190428-0.txt</td>\n",
              "      <td>0.909980</td>\n",
              "    </tr>\n",
              "    <tr>\n",
              "      <th>4</th>\n",
              "      <td>000001-20200828-0.txt</td>\n",
              "      <td>0.144541</td>\n",
              "    </tr>\n",
              "    <tr>\n",
              "      <th>5</th>\n",
              "      <td>000001-20201026-0.txt</td>\n",
              "      <td>0.333940</td>\n",
              "    </tr>\n",
              "    <tr>\n",
              "      <th>6</th>\n",
              "      <td>000001-20210129-0.txt</td>\n",
              "      <td>0.455639</td>\n",
              "    </tr>\n",
              "    <tr>\n",
              "      <th>7</th>\n",
              "      <td>000001-20210201-0.txt</td>\n",
              "      <td>0.542001</td>\n",
              "    </tr>\n",
              "    <tr>\n",
              "      <th>8</th>\n",
              "      <td>000001-20210202-0.txt</td>\n",
              "      <td>0.901697</td>\n",
              "    </tr>\n",
              "    <tr>\n",
              "      <th>9</th>\n",
              "      <td>000002-20111129-0.txt</td>\n",
              "      <td>-0.060906</td>\n",
              "    </tr>\n",
              "  </tbody>\n",
              "</table>\n",
              "</div>"
            ],
            "text/plain": [
              "               file_name  sentiment_score\n",
              "0  000001-20111051-0.txt         0.311501\n",
              "1  000001-20160309-0.txt         0.973825\n",
              "2  000001-20160421-0.txt         0.156352\n",
              "3  000001-20190428-0.txt         0.909980\n",
              "4  000001-20200828-0.txt         0.144541\n",
              "5  000001-20201026-0.txt         0.333940\n",
              "6  000001-20210129-0.txt         0.455639\n",
              "7  000001-20210201-0.txt         0.542001\n",
              "8  000001-20210202-0.txt         0.901697\n",
              "9  000002-20111129-0.txt        -0.060906"
            ]
          },
          "metadata": {
            "tags": []
          },
          "execution_count": 26
        }
      ]
    },
    {
      "cell_type": "code",
      "metadata": {
        "id": "nGo06UwHPdSc"
      },
      "source": [
        "df_results.to_csv(\"data/result_Chinese_bert.csv\", encoding='utf_8_sig')"
      ],
      "execution_count": 27,
      "outputs": []
    },
    {
      "cell_type": "code",
      "metadata": {
        "id": "Iey0YwB8O-K8"
      },
      "source": [
        "senti_df.to_csv(\"data/senti_Chinese_bert.csv\")"
      ],
      "execution_count": 28,
      "outputs": []
    },
    {
      "cell_type": "code",
      "metadata": {
        "id": "zqiUXaI2PlFc"
      },
      "source": [
        "senti_df_finbert = pd.read_csv(\"data/sentiment_finbert_full_final.csv\")\n",
        "senti_df_finbert = senti_df_finbert[[\"file_name\", \"sentiment_score\"]].groupby([\"file_name\"]).mean()\n",
        "senti_df_finbert = senti_df_finbert.reset_index()"
      ],
      "execution_count": 29,
      "outputs": []
    },
    {
      "cell_type": "code",
      "metadata": {
        "colab": {
          "base_uri": "https://localhost:8080/"
        },
        "id": "wSHR05lbQnq5",
        "outputId": "a537c380-2bc3-4dd0-a3f5-7abd125322c3"
      },
      "source": [
        "senti_df_finbert.shape"
      ],
      "execution_count": 30,
      "outputs": [
        {
          "output_type": "execute_result",
          "data": {
            "text/plain": [
              "(609, 2)"
            ]
          },
          "metadata": {
            "tags": []
          },
          "execution_count": 30
        }
      ]
    },
    {
      "cell_type": "code",
      "metadata": {
        "colab": {
          "base_uri": "https://localhost:8080/"
        },
        "id": "1khbo5K_QoiY",
        "outputId": "839946ab-0dc8-445d-9aa4-079860ef8137"
      },
      "source": [
        "senti_df.shape"
      ],
      "execution_count": 31,
      "outputs": [
        {
          "output_type": "execute_result",
          "data": {
            "text/plain": [
              "(632, 2)"
            ]
          },
          "metadata": {
            "tags": []
          },
          "execution_count": 31
        }
      ]
    },
    {
      "cell_type": "code",
      "metadata": {
        "id": "auwOlm3gQsbR"
      },
      "source": [
        "senti_df = senti_df.set_index(\"file_name\")\n",
        "senti_df = senti_df.reindex(senti_df_finbert[\"file_name\"].values)\n",
        "senti_df[\"sentiment_score_finbert\"] = senti_df_finbert[\"sentiment_score\"].values"
      ],
      "execution_count": 32,
      "outputs": []
    },
    {
      "cell_type": "code",
      "metadata": {
        "colab": {
          "base_uri": "https://localhost:8080/",
          "height": 437
        },
        "id": "mUya2VYPQ-CF",
        "outputId": "1f4882c8-3840-41f5-a3e5-ff382e16f4d6"
      },
      "source": [
        "senti_df"
      ],
      "execution_count": 33,
      "outputs": [
        {
          "output_type": "execute_result",
          "data": {
            "text/html": [
              "<div>\n",
              "<style scoped>\n",
              "    .dataframe tbody tr th:only-of-type {\n",
              "        vertical-align: middle;\n",
              "    }\n",
              "\n",
              "    .dataframe tbody tr th {\n",
              "        vertical-align: top;\n",
              "    }\n",
              "\n",
              "    .dataframe thead th {\n",
              "        text-align: right;\n",
              "    }\n",
              "</style>\n",
              "<table border=\"1\" class=\"dataframe\">\n",
              "  <thead>\n",
              "    <tr style=\"text-align: right;\">\n",
              "      <th></th>\n",
              "      <th>sentiment_score</th>\n",
              "      <th>sentiment_score_finbert</th>\n",
              "    </tr>\n",
              "    <tr>\n",
              "      <th>file_name</th>\n",
              "      <th></th>\n",
              "      <th></th>\n",
              "    </tr>\n",
              "  </thead>\n",
              "  <tbody>\n",
              "    <tr>\n",
              "      <th>000001-20111051-0.txt</th>\n",
              "      <td>0.311501</td>\n",
              "      <td>0.013028</td>\n",
              "    </tr>\n",
              "    <tr>\n",
              "      <th>000001-20160309-0.txt</th>\n",
              "      <td>0.973825</td>\n",
              "      <td>0.726259</td>\n",
              "    </tr>\n",
              "    <tr>\n",
              "      <th>000001-20160421-0.txt</th>\n",
              "      <td>0.156352</td>\n",
              "      <td>0.896930</td>\n",
              "    </tr>\n",
              "    <tr>\n",
              "      <th>000001-20190428-0.txt</th>\n",
              "      <td>0.909980</td>\n",
              "      <td>0.917128</td>\n",
              "    </tr>\n",
              "    <tr>\n",
              "      <th>000001-20200828-0.txt</th>\n",
              "      <td>0.144541</td>\n",
              "      <td>0.889456</td>\n",
              "    </tr>\n",
              "    <tr>\n",
              "      <th>...</th>\n",
              "      <td>...</td>\n",
              "      <td>...</td>\n",
              "    </tr>\n",
              "    <tr>\n",
              "      <th>603858-20170426-0.txt</th>\n",
              "      <td>0.918451</td>\n",
              "      <td>0.911597</td>\n",
              "    </tr>\n",
              "    <tr>\n",
              "      <th>603858-20190428-0.txt</th>\n",
              "      <td>0.713714</td>\n",
              "      <td>0.126759</td>\n",
              "    </tr>\n",
              "    <tr>\n",
              "      <th>603993-20201029-0.txt</th>\n",
              "      <td>0.493302</td>\n",
              "      <td>0.436567</td>\n",
              "    </tr>\n",
              "    <tr>\n",
              "      <th>603993-20201102-0.txt</th>\n",
              "      <td>0.667382</td>\n",
              "      <td>0.913706</td>\n",
              "    </tr>\n",
              "    <tr>\n",
              "      <th>603993-20201214-0.txt</th>\n",
              "      <td>0.797024</td>\n",
              "      <td>0.828386</td>\n",
              "    </tr>\n",
              "  </tbody>\n",
              "</table>\n",
              "<p>609 rows × 2 columns</p>\n",
              "</div>"
            ],
            "text/plain": [
              "                       sentiment_score  sentiment_score_finbert\n",
              "file_name                                                      \n",
              "000001-20111051-0.txt         0.311501                 0.013028\n",
              "000001-20160309-0.txt         0.973825                 0.726259\n",
              "000001-20160421-0.txt         0.156352                 0.896930\n",
              "000001-20190428-0.txt         0.909980                 0.917128\n",
              "000001-20200828-0.txt         0.144541                 0.889456\n",
              "...                                ...                      ...\n",
              "603858-20170426-0.txt         0.918451                 0.911597\n",
              "603858-20190428-0.txt         0.713714                 0.126759\n",
              "603993-20201029-0.txt         0.493302                 0.436567\n",
              "603993-20201102-0.txt         0.667382                 0.913706\n",
              "603993-20201214-0.txt         0.797024                 0.828386\n",
              "\n",
              "[609 rows x 2 columns]"
            ]
          },
          "metadata": {
            "tags": []
          },
          "execution_count": 33
        }
      ]
    },
    {
      "cell_type": "code",
      "metadata": {
        "colab": {
          "base_uri": "https://localhost:8080/",
          "height": 305
        },
        "id": "VbCQtIcNQ-tN",
        "outputId": "8700eca0-2e29-4f3f-ab6e-07a6c9abd04d"
      },
      "source": [
        "plt.scatter(senti_df[\"sentiment_score_finbert\"], senti_df[\"sentiment_score\"])\n",
        "plt.xlabel(\"Sentiment Score from English Finbert\")\n",
        "plt.ylabel(\"Sentiment Score from Chinese Finetuned BERT\")"
      ],
      "execution_count": 34,
      "outputs": [
        {
          "output_type": "execute_result",
          "data": {
            "text/plain": [
              "Text(0, 0.5, 'Sentiment Score from Chinese Finetuned BERT')"
            ]
          },
          "metadata": {
            "tags": []
          },
          "execution_count": 34
        },
        {
          "output_type": "display_data",
          "data": {
            "image/png": "[encoded data removed]",
            "text/plain": [
              "<Figure size 432x288 with 1 Axes>"
            ]
          },
          "metadata": {
            "tags": [],
            "needs_background": "light"
          }
        }
      ]
    },
    {
      "cell_type": "code",
      "metadata": {
        "colab": {
          "base_uri": "https://localhost:8080/"
        },
        "id": "ops4Ft6RRNsz",
        "outputId": "d394a39e-70f6-4a55-9f24-4d2f0551cb8c"
      },
      "source": [
        "import numpy.ma as ma\n",
        "a = ma.masked_invalid(senti_df[\"sentiment_score_finbert\"].values)\n",
        "b = ma.masked_invalid(senti_df[\"sentiment_score\"].values)\n",
        "\n",
        "msk = (~a.mask & ~b.mask)\n",
        "np.corrcoef(senti_df[\"sentiment_score_finbert\"].values[msk], senti_df[\"sentiment_score\"].values[msk])"
      ],
      "execution_count": 35,
      "outputs": [
        {
          "output_type": "execute_result",
          "data": {
            "text/plain": [
              "array([[1.        , 0.39935949],\n",
              "       [0.39935949, 1.        ]])"
            ]
          },
          "metadata": {
            "tags": []
          },
          "execution_count": 35
        }
      ]
    },
    {
      "cell_type": "code",
      "metadata": {
        "colab": {
          "base_uri": "https://localhost:8080/",
          "height": 78
        },
        "id": "jG6GQcILReti",
        "outputId": "1dc87d2e-a999-46df-be82-cdf0fb624b0e"
      },
      "source": [
        "models_store_path = \"models\"\n",
        "from glob import glob\n",
        "\n",
        "models_metrics_list = glob(models_store_path+\"/*_metrics.json\")\n",
        "\n",
        "all_models_metrics = []\n",
        "for mm_file in models_metrics_list:\n",
        "  with open(mm_file) as json_file:\n",
        "    model_metrics = json.load(json_file)\n",
        "    all_models_metrics.append(model_metrics)\n",
        "\n",
        "# Load metrics to dataframe\n",
        "view_metrics = pd.DataFrame(data=all_models_metrics)\n",
        "\n",
        "# Format columns\n",
        "view_metrics['accuracy'] = view_metrics['accuracy']*100\n",
        "view_metrics['accuracy'] = view_metrics['accuracy'].map('{:,.2f}%'.format)\n",
        "\n",
        "view_metrics['trainable_parameters'] = view_metrics['trainable_parameters'].map('{:,.0f}'.format)\n",
        "view_metrics['execution_time'] = view_metrics['execution_time'].map('{:,.2f} mins'.format)\n",
        "view_metrics['loss'] = view_metrics['loss'].map('{:,.2f}'.format)\n",
        "view_metrics['model_size'] = view_metrics['model_size']/1000000\n",
        "view_metrics['model_size'] = view_metrics['model_size'].map('{:,.0f} MB'.format)\n",
        "\n",
        "# Filter columns\n",
        "view_metrics = view_metrics[[\"trainable_parameters\",\"loss\",\n",
        "                             \"accuracy\",\"learning_rate\",\"epochs\",\"name\", \"model_size\",]]\n",
        "view_metrics = view_metrics.sort_values(by=['accuracy'],ascending=False)\n",
        "view_metrics.head(10)"
      ],
      "execution_count": 36,
      "outputs": [
        {
          "output_type": "execute_result",
          "data": {
            "text/html": [
              "<div>\n",
              "<style scoped>\n",
              "    .dataframe tbody tr th:only-of-type {\n",
              "        vertical-align: middle;\n",
              "    }\n",
              "\n",
              "    .dataframe tbody tr th {\n",
              "        vertical-align: top;\n",
              "    }\n",
              "\n",
              "    .dataframe thead th {\n",
              "        text-align: right;\n",
              "    }\n",
              "</style>\n",
              "<table border=\"1\" class=\"dataframe\">\n",
              "  <thead>\n",
              "    <tr style=\"text-align: right;\">\n",
              "      <th></th>\n",
              "      <th>trainable_parameters</th>\n",
              "      <th>loss</th>\n",
              "      <th>accuracy</th>\n",
              "      <th>learning_rate</th>\n",
              "      <th>epochs</th>\n",
              "      <th>name</th>\n",
              "      <th>model_size</th>\n",
              "    </tr>\n",
              "  </thead>\n",
              "  <tbody>\n",
              "    <tr>\n",
              "      <th>0</th>\n",
              "      <td>102,269,955</td>\n",
              "      <td>1.47</td>\n",
              "      <td>75.35%</td>\n",
              "      <td>0.00002</td>\n",
              "      <td>30</td>\n",
              "      <td>tf_bert_for_sequence_classification</td>\n",
              "      <td>409 MB</td>\n",
              "    </tr>\n",
              "  </tbody>\n",
              "</table>\n",
              "</div>"
            ],
            "text/plain": [
              "  trainable_parameters  loss  ...                                 name  model_size\n",
              "0          102,269,955  1.47  ...  tf_bert_for_sequence_classification      409 MB\n",
              "\n",
              "[1 rows x 7 columns]"
            ]
          },
          "metadata": {
            "tags": []
          },
          "execution_count": 36
        }
      ]
    },
    {
      "cell_type": "code",
      "metadata": {
        "id": "qwJ1ZWVphqA5"
      },
      "source": [
        ""
      ],
      "execution_count": null,
      "outputs": []
    }
  ]
}